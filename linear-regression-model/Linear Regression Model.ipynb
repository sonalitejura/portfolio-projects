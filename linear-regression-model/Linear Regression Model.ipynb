{
 "cells": [
  {
   "attachments": {},
   "cell_type": "markdown",
   "id": "30c595a8-df9c-48fe-bb24-c580563f0831",
   "metadata": {},
   "source": [
    "# Predicting Life Expectancy in MSOAs – Building a Linear Regression Model"
   ]
  },
  {
   "cell_type": "markdown",
   "id": "baea3668-773e-4874-884e-9c1048bad020",
   "metadata": {},
   "source": [
    "#### In this project, we will clean the data, conduct some exploratory data analysis and build a linear regression model. "
   ]
  },
  {
   "cell_type": "markdown",
   "id": "df0f70c6-c7b8-4777-aed3-89a7f94d8c38",
   "metadata": {},
   "source": [
    "#### Aims\n",
    "1. Build a linear regression model to predict life expectancy of MSOAs based on the following predictor variables:\n",
    "   - Net annual income before household costs\n",
    "   - Index of Multiple Deprivation (IMD) scores\n",
    "   - Economic inactivity due to long-term sickness or disability\n",
    "2. Predict how life expectancy in Dudley will change following a 10% increase in net annual income before household costs."
   ]
  },
  {
   "cell_type": "markdown",
   "id": "b07f5e9a-a01b-4db0-aa9d-dd0360865978",
   "metadata": {},
   "source": [
    "**Importing the Required Libraries**"
   ]
  },
  {
   "cell_type": "code",
   "execution_count": 1,
   "id": "09d65cf9-2fdf-4b63-9285-3bc1c4a2e5c6",
   "metadata": {},
   "outputs": [],
   "source": [
    "import math\n",
    "import numpy as np\n",
    "import pandas as pd\n",
    "import matplotlib.pyplot as plt\n",
    "%matplotlib inline\n",
    "import seaborn as sns"
   ]
  },
  {
   "cell_type": "markdown",
   "id": "1df8d123-bd9b-4d67-983e-fa3ec06524d4",
   "metadata": {},
   "source": [
    "**Importing the Life Expectancy Data**"
   ]
  },
  {
   "cell_type": "code",
   "execution_count": 2,
   "id": "ab4be8f2-c8a4-4197-8d55-839c5c0a7a27",
   "metadata": {},
   "outputs": [],
   "source": [
    "df1 = pd.read_csv('LE_at_birth_2015_to_2019.01.csv')"
   ]
  },
  {
   "cell_type": "code",
   "execution_count": 3,
   "id": "c69bd853-80c1-4710-bf2e-a2072d97fd4c",
   "metadata": {},
   "outputs": [
    {
     "data": {
      "text/html": [
       "<div>\n",
       "<style scoped>\n",
       "    .dataframe tbody tr th:only-of-type {\n",
       "        vertical-align: middle;\n",
       "    }\n",
       "\n",
       "    .dataframe tbody tr th {\n",
       "        vertical-align: top;\n",
       "    }\n",
       "\n",
       "    .dataframe thead th {\n",
       "        text-align: right;\n",
       "    }\n",
       "</style>\n",
       "<table border=\"1\" class=\"dataframe\">\n",
       "  <thead>\n",
       "    <tr style=\"text-align: right;\">\n",
       "      <th></th>\n",
       "      <th>Local Health - Office for Health Improvement and Disparities</th>\n",
       "      <th></th>\n",
       "      <th>.1</th>\n",
       "      <th>.2</th>\n",
       "    </tr>\n",
       "  </thead>\n",
       "  <tbody>\n",
       "    <tr>\n",
       "      <th>0</th>\n",
       "      <td>Geographical references: MSOA 2011 (Middle lev...</td>\n",
       "      <td></td>\n",
       "      <td></td>\n",
       "      <td></td>\n",
       "    </tr>\n",
       "    <tr>\n",
       "      <th>1</th>\n",
       "      <td>Code</td>\n",
       "      <td>Label</td>\n",
       "      <td>Life expectancy at birth for males</td>\n",
       "      <td>Life expectancy at birth for females</td>\n",
       "    </tr>\n",
       "    <tr>\n",
       "      <th>2</th>\n",
       "      <td>E02000001</td>\n",
       "      <td>City of London 001</td>\n",
       "      <td>91.1</td>\n",
       "      <td>90.2</td>\n",
       "    </tr>\n",
       "    <tr>\n",
       "      <th>3</th>\n",
       "      <td>E02000002</td>\n",
       "      <td>Barking and Dagenham 001</td>\n",
       "      <td>79.5</td>\n",
       "      <td>82.5</td>\n",
       "    </tr>\n",
       "    <tr>\n",
       "      <th>4</th>\n",
       "      <td>E02000003</td>\n",
       "      <td>Barking and Dagenham 002</td>\n",
       "      <td>78.1</td>\n",
       "      <td>84.2</td>\n",
       "    </tr>\n",
       "  </tbody>\n",
       "</table>\n",
       "</div>"
      ],
      "text/plain": [
       "  Local Health - Office for Health Improvement and Disparities  \\\n",
       "0  Geographical references: MSOA 2011 (Middle lev...             \n",
       "1                                               Code             \n",
       "2                                          E02000001             \n",
       "3                                          E02000002             \n",
       "4                                          E02000003             \n",
       "\n",
       "                                                             .1  \\\n",
       "0                                                                 \n",
       "1                     Label  Life expectancy at birth for males   \n",
       "2        City of London 001                                91.1   \n",
       "3  Barking and Dagenham 001                                79.5   \n",
       "4  Barking and Dagenham 002                                78.1   \n",
       "\n",
       "                                     .2  \n",
       "0                                        \n",
       "1  Life expectancy at birth for females  \n",
       "2                                  90.2  \n",
       "3                                  82.5  \n",
       "4                                  84.2  "
      ]
     },
     "execution_count": 3,
     "metadata": {},
     "output_type": "execute_result"
    }
   ],
   "source": [
    "df1.head()"
   ]
  },
  {
   "cell_type": "markdown",
   "id": "2138e045-431f-4c32-9fe0-8925164ad79e",
   "metadata": {},
   "source": [
    "## DATA CLEANING"
   ]
  },
  {
   "cell_type": "markdown",
   "id": "55b45deb-8e7f-417f-98e9-2c041de06500",
   "metadata": {},
   "source": [
    "#### 1. Clean df1"
   ]
  },
  {
   "cell_type": "markdown",
   "id": "e7cc6d90-a515-4a22-b454-f51a14da9a05",
   "metadata": {},
   "source": [
    "**a) Drop rows 0 and 1, reset the index, drop the index column that is created by reset_index.**"
   ]
  },
  {
   "cell_type": "code",
   "execution_count": 4,
   "id": "3d4acf76-83e2-4dd6-8fe4-e451e1431a14",
   "metadata": {},
   "outputs": [],
   "source": [
    "df1 = df1.drop([0,1]).reset_index().drop(['index'], axis=1)"
   ]
  },
  {
   "cell_type": "markdown",
   "id": "c781d0a3-be29-4da4-a52b-339622816e4b",
   "metadata": {},
   "source": [
    "**b) Rename the columns to match the excel income data** - this will make it easier to merge the datasets later."
   ]
  },
  {
   "cell_type": "code",
   "execution_count": 5,
   "id": "9def7da1-58c9-4ede-8870-fa800d0f72c2",
   "metadata": {},
   "outputs": [],
   "source": [
    "column_names = ['MSOA code', 'MSOA name', 'Male Life Expectancy', 'Female Life Expectancy']"
   ]
  },
  {
   "cell_type": "code",
   "execution_count": 6,
   "id": "a683fdda-3d70-449c-9d68-9b58e90179d9",
   "metadata": {},
   "outputs": [],
   "source": [
    "df1.columns = column_names"
   ]
  },
  {
   "cell_type": "code",
   "execution_count": 7,
   "id": "9e711b57-082a-4679-b342-927d412425fd",
   "metadata": {},
   "outputs": [
    {
     "data": {
      "text/html": [
       "<div>\n",
       "<style scoped>\n",
       "    .dataframe tbody tr th:only-of-type {\n",
       "        vertical-align: middle;\n",
       "    }\n",
       "\n",
       "    .dataframe tbody tr th {\n",
       "        vertical-align: top;\n",
       "    }\n",
       "\n",
       "    .dataframe thead th {\n",
       "        text-align: right;\n",
       "    }\n",
       "</style>\n",
       "<table border=\"1\" class=\"dataframe\">\n",
       "  <thead>\n",
       "    <tr style=\"text-align: right;\">\n",
       "      <th></th>\n",
       "      <th>MSOA code</th>\n",
       "      <th>MSOA name</th>\n",
       "      <th>Male Life Expectancy</th>\n",
       "      <th>Female Life Expectancy</th>\n",
       "    </tr>\n",
       "  </thead>\n",
       "  <tbody>\n",
       "    <tr>\n",
       "      <th>0</th>\n",
       "      <td>E02000001</td>\n",
       "      <td>City of London 001</td>\n",
       "      <td>91.1</td>\n",
       "      <td>90.2</td>\n",
       "    </tr>\n",
       "    <tr>\n",
       "      <th>1</th>\n",
       "      <td>E02000002</td>\n",
       "      <td>Barking and Dagenham 001</td>\n",
       "      <td>79.5</td>\n",
       "      <td>82.5</td>\n",
       "    </tr>\n",
       "    <tr>\n",
       "      <th>2</th>\n",
       "      <td>E02000003</td>\n",
       "      <td>Barking and Dagenham 002</td>\n",
       "      <td>78.1</td>\n",
       "      <td>84.2</td>\n",
       "    </tr>\n",
       "    <tr>\n",
       "      <th>3</th>\n",
       "      <td>E02000004</td>\n",
       "      <td>Barking and Dagenham 003</td>\n",
       "      <td>77.6</td>\n",
       "      <td>81.8</td>\n",
       "    </tr>\n",
       "    <tr>\n",
       "      <th>4</th>\n",
       "      <td>E02000005</td>\n",
       "      <td>Barking and Dagenham 004</td>\n",
       "      <td>79.2</td>\n",
       "      <td>84.6</td>\n",
       "    </tr>\n",
       "  </tbody>\n",
       "</table>\n",
       "</div>"
      ],
      "text/plain": [
       "   MSOA code                 MSOA name Male Life Expectancy  \\\n",
       "0  E02000001        City of London 001                 91.1   \n",
       "1  E02000002  Barking and Dagenham 001                 79.5   \n",
       "2  E02000003  Barking and Dagenham 002                 78.1   \n",
       "3  E02000004  Barking and Dagenham 003                 77.6   \n",
       "4  E02000005  Barking and Dagenham 004                 79.2   \n",
       "\n",
       "  Female Life Expectancy  \n",
       "0                   90.2  \n",
       "1                   82.5  \n",
       "2                   84.2  \n",
       "3                   81.8  \n",
       "4                   84.6  "
      ]
     },
     "execution_count": 7,
     "metadata": {},
     "output_type": "execute_result"
    }
   ],
   "source": [
    "df1.head()"
   ]
  },
  {
   "cell_type": "markdown",
   "id": "7eff15be-c02b-4152-a5eb-77ed6c687a5a",
   "metadata": {},
   "source": [
    "#### 2. Import the 'Net annual income before housing costs' Excel worksheet\n",
    "- I have not imported the first four lines of the worksheet as they do not contain any data. "
   ]
  },
  {
   "cell_type": "code",
   "execution_count": 8,
   "id": "9666b02d-f06f-4d3a-9ad8-e782c87f1b1e",
   "metadata": {},
   "outputs": [],
   "source": [
    "net_income_before_housing_costs = pd.read_excel('MSOA_income_estimates.xlsx', sheet_name = 'Net income before housing costs', \n",
    "                                                skiprows=4)"
   ]
  },
  {
   "cell_type": "code",
   "execution_count": 9,
   "id": "1d0a8228-9349-4d32-8c71-1df6beb05ad7",
   "metadata": {},
   "outputs": [
    {
     "data": {
      "text/html": [
       "<div>\n",
       "<style scoped>\n",
       "    .dataframe tbody tr th:only-of-type {\n",
       "        vertical-align: middle;\n",
       "    }\n",
       "\n",
       "    .dataframe tbody tr th {\n",
       "        vertical-align: top;\n",
       "    }\n",
       "\n",
       "    .dataframe thead th {\n",
       "        text-align: right;\n",
       "    }\n",
       "</style>\n",
       "<table border=\"1\" class=\"dataframe\">\n",
       "  <thead>\n",
       "    <tr style=\"text-align: right;\">\n",
       "      <th></th>\n",
       "      <th>MSOA code</th>\n",
       "      <th>MSOA name</th>\n",
       "      <th>Local authority code</th>\n",
       "      <th>Local authority name</th>\n",
       "      <th>Region code</th>\n",
       "      <th>Region name</th>\n",
       "      <th>Net annual income before housing costs (£)</th>\n",
       "      <th>Upper confidence limit (£)</th>\n",
       "      <th>Lower confidence limit (£)</th>\n",
       "      <th>Confidence interval (£)</th>\n",
       "    </tr>\n",
       "  </thead>\n",
       "  <tbody>\n",
       "    <tr>\n",
       "      <th>0</th>\n",
       "      <td>E02004297</td>\n",
       "      <td>County Durham 001</td>\n",
       "      <td>E06000047</td>\n",
       "      <td>County Durham</td>\n",
       "      <td>E12000001</td>\n",
       "      <td>North East</td>\n",
       "      <td>28800</td>\n",
       "      <td>32200</td>\n",
       "      <td>25700</td>\n",
       "      <td>6500</td>\n",
       "    </tr>\n",
       "    <tr>\n",
       "      <th>1</th>\n",
       "      <td>E02004290</td>\n",
       "      <td>County Durham 002</td>\n",
       "      <td>E06000047</td>\n",
       "      <td>County Durham</td>\n",
       "      <td>E12000001</td>\n",
       "      <td>North East</td>\n",
       "      <td>30100</td>\n",
       "      <td>33800</td>\n",
       "      <td>26800</td>\n",
       "      <td>7000</td>\n",
       "    </tr>\n",
       "    <tr>\n",
       "      <th>2</th>\n",
       "      <td>E02004298</td>\n",
       "      <td>County Durham 003</td>\n",
       "      <td>E06000047</td>\n",
       "      <td>County Durham</td>\n",
       "      <td>E12000001</td>\n",
       "      <td>North East</td>\n",
       "      <td>31300</td>\n",
       "      <td>35100</td>\n",
       "      <td>27900</td>\n",
       "      <td>7200</td>\n",
       "    </tr>\n",
       "    <tr>\n",
       "      <th>3</th>\n",
       "      <td>E02004299</td>\n",
       "      <td>County Durham 004</td>\n",
       "      <td>E06000047</td>\n",
       "      <td>County Durham</td>\n",
       "      <td>E12000001</td>\n",
       "      <td>North East</td>\n",
       "      <td>27600</td>\n",
       "      <td>30900</td>\n",
       "      <td>24600</td>\n",
       "      <td>6300</td>\n",
       "    </tr>\n",
       "    <tr>\n",
       "      <th>4</th>\n",
       "      <td>E02004291</td>\n",
       "      <td>County Durham 005</td>\n",
       "      <td>E06000047</td>\n",
       "      <td>County Durham</td>\n",
       "      <td>E12000001</td>\n",
       "      <td>North East</td>\n",
       "      <td>26500</td>\n",
       "      <td>29600</td>\n",
       "      <td>23600</td>\n",
       "      <td>6000</td>\n",
       "    </tr>\n",
       "  </tbody>\n",
       "</table>\n",
       "</div>"
      ],
      "text/plain": [
       "   MSOA code          MSOA name Local authority code Local authority name  \\\n",
       "0  E02004297  County Durham 001            E06000047        County Durham   \n",
       "1  E02004290  County Durham 002            E06000047        County Durham   \n",
       "2  E02004298  County Durham 003            E06000047        County Durham   \n",
       "3  E02004299  County Durham 004            E06000047        County Durham   \n",
       "4  E02004291  County Durham 005            E06000047        County Durham   \n",
       "\n",
       "  Region code Region name  Net annual income before housing costs (£)  \\\n",
       "0   E12000001  North East                                       28800   \n",
       "1   E12000001  North East                                       30100   \n",
       "2   E12000001  North East                                       31300   \n",
       "3   E12000001  North East                                       27600   \n",
       "4   E12000001  North East                                       26500   \n",
       "\n",
       "   Upper confidence limit (£)  Lower confidence limit (£)  \\\n",
       "0                       32200                       25700   \n",
       "1                       33800                       26800   \n",
       "2                       35100                       27900   \n",
       "3                       30900                       24600   \n",
       "4                       29600                       23600   \n",
       "\n",
       "   Confidence interval (£)  \n",
       "0                     6500  \n",
       "1                     7000  \n",
       "2                     7200  \n",
       "3                     6300  \n",
       "4                     6000  "
      ]
     },
     "execution_count": 9,
     "metadata": {},
     "output_type": "execute_result"
    }
   ],
   "source": [
    "net_income_before_housing_costs.head()"
   ]
  },
  {
   "cell_type": "markdown",
   "id": "d2dd7e2e-7b85-4d93-a666-43a323c13eb6",
   "metadata": {},
   "source": [
    "#### 4. Merge the Life Expectancy and Income Dataframes"
   ]
  },
  {
   "cell_type": "code",
   "execution_count": 10,
   "id": "c203ebac-05b9-4324-bf76-be559ef5cd00",
   "metadata": {},
   "outputs": [],
   "source": [
    "df2 = pd.merge(df1, net_income_before_housing_costs, on=['MSOA code', 'MSOA name'])"
   ]
  },
  {
   "cell_type": "markdown",
   "id": "59f0c250-813c-4738-9416-2ec687fa0ff5",
   "metadata": {},
   "source": [
    "#### 5. Import IMD Scores Data"
   ]
  },
  {
   "cell_type": "code",
   "execution_count": 11,
   "id": "6ca42ccd-6270-4c09-9c6b-522bb3c8d066",
   "metadata": {},
   "outputs": [],
   "source": [
    "df_imd = pd.read_csv('imd2019_msoa_level_data.csv')"
   ]
  },
  {
   "cell_type": "code",
   "execution_count": 12,
   "id": "29abcb32-bcf2-42a2-9cfa-b8a4fd576235",
   "metadata": {},
   "outputs": [
    {
     "data": {
      "text/html": [
       "<div>\n",
       "<style scoped>\n",
       "    .dataframe tbody tr th:only-of-type {\n",
       "        vertical-align: middle;\n",
       "    }\n",
       "\n",
       "    .dataframe tbody tr th {\n",
       "        vertical-align: top;\n",
       "    }\n",
       "\n",
       "    .dataframe thead th {\n",
       "        text-align: right;\n",
       "    }\n",
       "</style>\n",
       "<table border=\"1\" class=\"dataframe\">\n",
       "  <thead>\n",
       "    <tr style=\"text-align: right;\">\n",
       "      <th></th>\n",
       "      <th>MSOAC</th>\n",
       "      <th>MSOAHOCLN</th>\n",
       "      <th>LAD19C</th>\n",
       "      <th>LAD19N</th>\n",
       "      <th>REG</th>\n",
       "      <th>LSOACOUNT</th>\n",
       "      <th>POPMID15</th>\n",
       "      <th>IMD19 SCORE</th>\n",
       "      <th>MSOARANK</th>\n",
       "      <th>MSOADECILE</th>\n",
       "      <th>MSOAQUINTILE</th>\n",
       "    </tr>\n",
       "  </thead>\n",
       "  <tbody>\n",
       "    <tr>\n",
       "      <th>0</th>\n",
       "      <td>E02000001</td>\n",
       "      <td>City of London</td>\n",
       "      <td>E09000001</td>\n",
       "      <td>City of London</td>\n",
       "      <td>London</td>\n",
       "      <td>6</td>\n",
       "      <td>6687</td>\n",
       "      <td>14.720484</td>\n",
       "      <td>4198</td>\n",
       "      <td>7</td>\n",
       "      <td>4</td>\n",
       "    </tr>\n",
       "    <tr>\n",
       "      <th>1</th>\n",
       "      <td>E02000002</td>\n",
       "      <td>Marks Gate</td>\n",
       "      <td>E09000002</td>\n",
       "      <td>Barking and Dagenham</td>\n",
       "      <td>London</td>\n",
       "      <td>4</td>\n",
       "      <td>7379</td>\n",
       "      <td>34.767560</td>\n",
       "      <td>1060</td>\n",
       "      <td>2</td>\n",
       "      <td>1</td>\n",
       "    </tr>\n",
       "    <tr>\n",
       "      <th>2</th>\n",
       "      <td>E02000003</td>\n",
       "      <td>Chadwell Heath East</td>\n",
       "      <td>E09000002</td>\n",
       "      <td>Barking and Dagenham</td>\n",
       "      <td>London</td>\n",
       "      <td>6</td>\n",
       "      <td>10720</td>\n",
       "      <td>25.149726</td>\n",
       "      <td>2200</td>\n",
       "      <td>4</td>\n",
       "      <td>2</td>\n",
       "    </tr>\n",
       "    <tr>\n",
       "      <th>3</th>\n",
       "      <td>E02000004</td>\n",
       "      <td>Eastbrookend</td>\n",
       "      <td>E09000002</td>\n",
       "      <td>Barking and Dagenham</td>\n",
       "      <td>London</td>\n",
       "      <td>4</td>\n",
       "      <td>6536</td>\n",
       "      <td>23.560044</td>\n",
       "      <td>2429</td>\n",
       "      <td>4</td>\n",
       "      <td>2</td>\n",
       "    </tr>\n",
       "    <tr>\n",
       "      <th>4</th>\n",
       "      <td>E02000005</td>\n",
       "      <td>Becontree Heath</td>\n",
       "      <td>E09000002</td>\n",
       "      <td>Barking and Dagenham</td>\n",
       "      <td>London</td>\n",
       "      <td>5</td>\n",
       "      <td>9243</td>\n",
       "      <td>30.212965</td>\n",
       "      <td>1519</td>\n",
       "      <td>3</td>\n",
       "      <td>2</td>\n",
       "    </tr>\n",
       "  </tbody>\n",
       "</table>\n",
       "</div>"
      ],
      "text/plain": [
       "       MSOAC            MSOAHOCLN     LAD19C                LAD19N     REG  \\\n",
       "0  E02000001       City of London  E09000001        City of London  London   \n",
       "1  E02000002           Marks Gate  E09000002  Barking and Dagenham  London   \n",
       "2  E02000003  Chadwell Heath East  E09000002  Barking and Dagenham  London   \n",
       "3  E02000004         Eastbrookend  E09000002  Barking and Dagenham  London   \n",
       "4  E02000005      Becontree Heath  E09000002  Barking and Dagenham  London   \n",
       "\n",
       "   LSOACOUNT  POPMID15  IMD19 SCORE  MSOARANK  MSOADECILE  MSOAQUINTILE  \n",
       "0          6      6687    14.720484      4198           7             4  \n",
       "1          4      7379    34.767560      1060           2             1  \n",
       "2          6     10720    25.149726      2200           4             2  \n",
       "3          4      6536    23.560044      2429           4             2  \n",
       "4          5      9243    30.212965      1519           3             2  "
      ]
     },
     "execution_count": 12,
     "metadata": {},
     "output_type": "execute_result"
    }
   ],
   "source": [
    "df_imd.head()"
   ]
  },
  {
   "cell_type": "code",
   "execution_count": 13,
   "id": "d8aa041e-c69c-4acf-bc1f-8687f27ac9a2",
   "metadata": {},
   "outputs": [
    {
     "name": "stderr",
     "output_type": "stream",
     "text": [
      "/var/folders/0g/9c2sx5tj5nzfjm5nd2m6t3_m0000gn/T/ipykernel_58755/1724207105.py:2: SettingWithCopyWarning: \n",
      "A value is trying to be set on a copy of a slice from a DataFrame\n",
      "\n",
      "See the caveats in the documentation: https://pandas.pydata.org/pandas-docs/stable/user_guide/indexing.html#returning-a-view-versus-a-copy\n",
      "  df_imd_new.rename(columns={'MSOAC':'MSOA code', 'IMD19 SCORE': 'IMD SCORE'}, inplace = True)\n"
     ]
    }
   ],
   "source": [
    "df_imd_new = df_imd[['MSOAC', 'IMD19 SCORE', 'POPMID15','MSOARANK', 'MSOADECILE', 'MSOAQUINTILE']]\n",
    "df_imd_new.rename(columns={'MSOAC':'MSOA code', 'IMD19 SCORE': 'IMD SCORE'}, inplace = True)"
   ]
  },
  {
   "cell_type": "markdown",
   "id": "609d7fc3-7542-4a7f-9211-07e2a3d09ffc",
   "metadata": {},
   "source": [
    "#### 6. Merge IMD Data with df2"
   ]
  },
  {
   "cell_type": "code",
   "execution_count": 14,
   "id": "2daf06e9-34c1-40cd-8e97-f59169ecf7a4",
   "metadata": {},
   "outputs": [],
   "source": [
    "df3 = pd.merge(df2, df_imd_new, on=['MSOA code'])"
   ]
  },
  {
   "cell_type": "code",
   "execution_count": 15,
   "id": "a55063d9-26d5-4732-b6ef-3ece380513a3",
   "metadata": {
    "scrolled": true
   },
   "outputs": [
    {
     "data": {
      "text/html": [
       "<div>\n",
       "<style scoped>\n",
       "    .dataframe tbody tr th:only-of-type {\n",
       "        vertical-align: middle;\n",
       "    }\n",
       "\n",
       "    .dataframe tbody tr th {\n",
       "        vertical-align: top;\n",
       "    }\n",
       "\n",
       "    .dataframe thead th {\n",
       "        text-align: right;\n",
       "    }\n",
       "</style>\n",
       "<table border=\"1\" class=\"dataframe\">\n",
       "  <thead>\n",
       "    <tr style=\"text-align: right;\">\n",
       "      <th></th>\n",
       "      <th>MSOA code</th>\n",
       "      <th>MSOA name</th>\n",
       "      <th>Male Life Expectancy</th>\n",
       "      <th>Female Life Expectancy</th>\n",
       "      <th>Local authority code</th>\n",
       "      <th>Local authority name</th>\n",
       "      <th>Region code</th>\n",
       "      <th>Region name</th>\n",
       "      <th>Net annual income before housing costs (£)</th>\n",
       "      <th>Upper confidence limit (£)</th>\n",
       "      <th>Lower confidence limit (£)</th>\n",
       "      <th>Confidence interval (£)</th>\n",
       "      <th>IMD SCORE</th>\n",
       "      <th>POPMID15</th>\n",
       "      <th>MSOARANK</th>\n",
       "      <th>MSOADECILE</th>\n",
       "      <th>MSOAQUINTILE</th>\n",
       "    </tr>\n",
       "  </thead>\n",
       "  <tbody>\n",
       "    <tr>\n",
       "      <th>0</th>\n",
       "      <td>E02000001</td>\n",
       "      <td>City of London 001</td>\n",
       "      <td>91.1</td>\n",
       "      <td>90.2</td>\n",
       "      <td>E09000001</td>\n",
       "      <td>City of London</td>\n",
       "      <td>E12000007</td>\n",
       "      <td>London</td>\n",
       "      <td>65000</td>\n",
       "      <td>75100</td>\n",
       "      <td>56300</td>\n",
       "      <td>18800</td>\n",
       "      <td>14.720484</td>\n",
       "      <td>6687</td>\n",
       "      <td>4198</td>\n",
       "      <td>7</td>\n",
       "      <td>4</td>\n",
       "    </tr>\n",
       "    <tr>\n",
       "      <th>1</th>\n",
       "      <td>E02000002</td>\n",
       "      <td>Barking and Dagenham 001</td>\n",
       "      <td>79.5</td>\n",
       "      <td>82.5</td>\n",
       "      <td>E09000002</td>\n",
       "      <td>Barking and Dagenham</td>\n",
       "      <td>E12000007</td>\n",
       "      <td>London</td>\n",
       "      <td>28600</td>\n",
       "      <td>32100</td>\n",
       "      <td>25500</td>\n",
       "      <td>6600</td>\n",
       "      <td>34.767560</td>\n",
       "      <td>7379</td>\n",
       "      <td>1060</td>\n",
       "      <td>2</td>\n",
       "      <td>1</td>\n",
       "    </tr>\n",
       "    <tr>\n",
       "      <th>2</th>\n",
       "      <td>E02000003</td>\n",
       "      <td>Barking and Dagenham 002</td>\n",
       "      <td>78.1</td>\n",
       "      <td>84.2</td>\n",
       "      <td>E09000002</td>\n",
       "      <td>Barking and Dagenham</td>\n",
       "      <td>E12000007</td>\n",
       "      <td>London</td>\n",
       "      <td>33000</td>\n",
       "      <td>36900</td>\n",
       "      <td>29600</td>\n",
       "      <td>7300</td>\n",
       "      <td>25.149726</td>\n",
       "      <td>10720</td>\n",
       "      <td>2200</td>\n",
       "      <td>4</td>\n",
       "      <td>2</td>\n",
       "    </tr>\n",
       "    <tr>\n",
       "      <th>3</th>\n",
       "      <td>E02000004</td>\n",
       "      <td>Barking and Dagenham 003</td>\n",
       "      <td>77.6</td>\n",
       "      <td>81.8</td>\n",
       "      <td>E09000002</td>\n",
       "      <td>Barking and Dagenham</td>\n",
       "      <td>E12000007</td>\n",
       "      <td>London</td>\n",
       "      <td>34300</td>\n",
       "      <td>38300</td>\n",
       "      <td>30600</td>\n",
       "      <td>7700</td>\n",
       "      <td>23.560044</td>\n",
       "      <td>6536</td>\n",
       "      <td>2429</td>\n",
       "      <td>4</td>\n",
       "      <td>2</td>\n",
       "    </tr>\n",
       "    <tr>\n",
       "      <th>4</th>\n",
       "      <td>E02000005</td>\n",
       "      <td>Barking and Dagenham 004</td>\n",
       "      <td>79.2</td>\n",
       "      <td>84.6</td>\n",
       "      <td>E09000002</td>\n",
       "      <td>Barking and Dagenham</td>\n",
       "      <td>E12000007</td>\n",
       "      <td>London</td>\n",
       "      <td>30000</td>\n",
       "      <td>33600</td>\n",
       "      <td>26700</td>\n",
       "      <td>6900</td>\n",
       "      <td>30.212965</td>\n",
       "      <td>9243</td>\n",
       "      <td>1519</td>\n",
       "      <td>3</td>\n",
       "      <td>2</td>\n",
       "    </tr>\n",
       "  </tbody>\n",
       "</table>\n",
       "</div>"
      ],
      "text/plain": [
       "   MSOA code                 MSOA name Male Life Expectancy  \\\n",
       "0  E02000001        City of London 001                 91.1   \n",
       "1  E02000002  Barking and Dagenham 001                 79.5   \n",
       "2  E02000003  Barking and Dagenham 002                 78.1   \n",
       "3  E02000004  Barking and Dagenham 003                 77.6   \n",
       "4  E02000005  Barking and Dagenham 004                 79.2   \n",
       "\n",
       "  Female Life Expectancy Local authority code  Local authority name  \\\n",
       "0                   90.2            E09000001        City of London   \n",
       "1                   82.5            E09000002  Barking and Dagenham   \n",
       "2                   84.2            E09000002  Barking and Dagenham   \n",
       "3                   81.8            E09000002  Barking and Dagenham   \n",
       "4                   84.6            E09000002  Barking and Dagenham   \n",
       "\n",
       "  Region code Region name  Net annual income before housing costs (£)  \\\n",
       "0   E12000007      London                                       65000   \n",
       "1   E12000007      London                                       28600   \n",
       "2   E12000007      London                                       33000   \n",
       "3   E12000007      London                                       34300   \n",
       "4   E12000007      London                                       30000   \n",
       "\n",
       "   Upper confidence limit (£)  Lower confidence limit (£)  \\\n",
       "0                       75100                       56300   \n",
       "1                       32100                       25500   \n",
       "2                       36900                       29600   \n",
       "3                       38300                       30600   \n",
       "4                       33600                       26700   \n",
       "\n",
       "   Confidence interval (£)  IMD SCORE  POPMID15  MSOARANK  MSOADECILE  \\\n",
       "0                    18800  14.720484      6687      4198           7   \n",
       "1                     6600  34.767560      7379      1060           2   \n",
       "2                     7300  25.149726     10720      2200           4   \n",
       "3                     7700  23.560044      6536      2429           4   \n",
       "4                     6900  30.212965      9243      1519           3   \n",
       "\n",
       "   MSOAQUINTILE  \n",
       "0             4  \n",
       "1             1  \n",
       "2             2  \n",
       "3             2  \n",
       "4             2  "
      ]
     },
     "execution_count": 15,
     "metadata": {},
     "output_type": "execute_result"
    }
   ],
   "source": [
    "df3.head()"
   ]
  },
  {
   "cell_type": "markdown",
   "id": "53ce8260-b2b8-4b43-9148-24fcf7246f3d",
   "metadata": {},
   "source": [
    "#### 7. Import NOMIS Employment Data"
   ]
  },
  {
   "cell_type": "code",
   "execution_count": 16,
   "id": "7b751a85-af97-485a-9166-cb63427b6e08",
   "metadata": {},
   "outputs": [],
   "source": [
    "df_nomis = pd.read_csv('nomis.csv')"
   ]
  },
  {
   "cell_type": "code",
   "execution_count": 17,
   "id": "dc040422-de69-4e29-9521-d4b80f77f4c8",
   "metadata": {},
   "outputs": [
    {
     "data": {
      "text/html": [
       "<div>\n",
       "<style scoped>\n",
       "    .dataframe tbody tr th:only-of-type {\n",
       "        vertical-align: middle;\n",
       "    }\n",
       "\n",
       "    .dataframe tbody tr th {\n",
       "        vertical-align: top;\n",
       "    }\n",
       "\n",
       "    .dataframe thead th {\n",
       "        text-align: right;\n",
       "    }\n",
       "</style>\n",
       "<table border=\"1\" class=\"dataframe\">\n",
       "  <thead>\n",
       "    <tr style=\"text-align: right;\">\n",
       "      <th></th>\n",
       "      <th>date</th>\n",
       "      <th>geography</th>\n",
       "      <th>geography code</th>\n",
       "      <th>Economic Activity: All usual residents aged 16 to 74; measures: Value</th>\n",
       "      <th>Economic Activity: Economically active; measures: Value</th>\n",
       "      <th>Economic Activity: Economically active: In employment; measures: Value</th>\n",
       "      <th>Economic Activity: Economically active: Employee: Part-time; measures: Value</th>\n",
       "      <th>Economic Activity: Economically active: Employee: Full-time; measures: Value</th>\n",
       "      <th>Economic Activity: Economically active: Self-employed; measures: Value</th>\n",
       "      <th>Economic Activity: Economically active: Unemployed; measures: Value</th>\n",
       "      <th>...</th>\n",
       "      <th>Economic Activity: Economically Inactive; measures: Value</th>\n",
       "      <th>Economic Activity: Economically inactive: Retired; measures: Value</th>\n",
       "      <th>Economic Activity: Economically inactive: Student (including full-time students); measures: Value</th>\n",
       "      <th>Economic Activity: Economically inactive: Looking after home or family; measures: Value</th>\n",
       "      <th>Economic Activity: Economically inactive: Long-term sick or disabled; measures: Value</th>\n",
       "      <th>Economic Activity: Economically inactive: Other; measures: Value</th>\n",
       "      <th>Economic Activity: Unemployed: Age 16 to 24; measures: Value</th>\n",
       "      <th>Economic Activity: Unemployed: Age 50 to 74; measures: Value</th>\n",
       "      <th>Economic Activity: Unemployed: Never worked; measures: Value</th>\n",
       "      <th>Economic Activity: Long-term unemployed; measures: Value</th>\n",
       "    </tr>\n",
       "  </thead>\n",
       "  <tbody>\n",
       "    <tr>\n",
       "      <th>0</th>\n",
       "      <td>2011</td>\n",
       "      <td>Darlington 001</td>\n",
       "      <td>E02002559</td>\n",
       "      <td>6521</td>\n",
       "      <td>4928</td>\n",
       "      <td>4609</td>\n",
       "      <td>927</td>\n",
       "      <td>2888</td>\n",
       "      <td>794</td>\n",
       "      <td>165</td>\n",
       "      <td>...</td>\n",
       "      <td>1593</td>\n",
       "      <td>967</td>\n",
       "      <td>211</td>\n",
       "      <td>209</td>\n",
       "      <td>133</td>\n",
       "      <td>73</td>\n",
       "      <td>40</td>\n",
       "      <td>43</td>\n",
       "      <td>16</td>\n",
       "      <td>66</td>\n",
       "    </tr>\n",
       "    <tr>\n",
       "      <th>1</th>\n",
       "      <td>2011</td>\n",
       "      <td>Darlington 002</td>\n",
       "      <td>E02002560</td>\n",
       "      <td>4462</td>\n",
       "      <td>3323</td>\n",
       "      <td>3006</td>\n",
       "      <td>731</td>\n",
       "      <td>1957</td>\n",
       "      <td>318</td>\n",
       "      <td>181</td>\n",
       "      <td>...</td>\n",
       "      <td>1139</td>\n",
       "      <td>701</td>\n",
       "      <td>141</td>\n",
       "      <td>137</td>\n",
       "      <td>119</td>\n",
       "      <td>41</td>\n",
       "      <td>44</td>\n",
       "      <td>33</td>\n",
       "      <td>21</td>\n",
       "      <td>68</td>\n",
       "    </tr>\n",
       "    <tr>\n",
       "      <th>2</th>\n",
       "      <td>2011</td>\n",
       "      <td>Darlington 003</td>\n",
       "      <td>E02002561</td>\n",
       "      <td>4342</td>\n",
       "      <td>3093</td>\n",
       "      <td>2816</td>\n",
       "      <td>706</td>\n",
       "      <td>1856</td>\n",
       "      <td>254</td>\n",
       "      <td>171</td>\n",
       "      <td>...</td>\n",
       "      <td>1249</td>\n",
       "      <td>796</td>\n",
       "      <td>143</td>\n",
       "      <td>120</td>\n",
       "      <td>151</td>\n",
       "      <td>39</td>\n",
       "      <td>32</td>\n",
       "      <td>47</td>\n",
       "      <td>14</td>\n",
       "      <td>61</td>\n",
       "    </tr>\n",
       "    <tr>\n",
       "      <th>3</th>\n",
       "      <td>2011</td>\n",
       "      <td>Darlington 004</td>\n",
       "      <td>E02002562</td>\n",
       "      <td>4473</td>\n",
       "      <td>3139</td>\n",
       "      <td>2672</td>\n",
       "      <td>726</td>\n",
       "      <td>1722</td>\n",
       "      <td>224</td>\n",
       "      <td>331</td>\n",
       "      <td>...</td>\n",
       "      <td>1334</td>\n",
       "      <td>623</td>\n",
       "      <td>138</td>\n",
       "      <td>188</td>\n",
       "      <td>275</td>\n",
       "      <td>110</td>\n",
       "      <td>91</td>\n",
       "      <td>62</td>\n",
       "      <td>44</td>\n",
       "      <td>168</td>\n",
       "    </tr>\n",
       "    <tr>\n",
       "      <th>4</th>\n",
       "      <td>2011</td>\n",
       "      <td>Darlington 005</td>\n",
       "      <td>E02002563</td>\n",
       "      <td>3912</td>\n",
       "      <td>2620</td>\n",
       "      <td>2366</td>\n",
       "      <td>640</td>\n",
       "      <td>1507</td>\n",
       "      <td>219</td>\n",
       "      <td>168</td>\n",
       "      <td>...</td>\n",
       "      <td>1292</td>\n",
       "      <td>711</td>\n",
       "      <td>130</td>\n",
       "      <td>152</td>\n",
       "      <td>230</td>\n",
       "      <td>69</td>\n",
       "      <td>56</td>\n",
       "      <td>36</td>\n",
       "      <td>26</td>\n",
       "      <td>64</td>\n",
       "    </tr>\n",
       "  </tbody>\n",
       "</table>\n",
       "<p>5 rows × 21 columns</p>\n",
       "</div>"
      ],
      "text/plain": [
       "   date       geography geography code  \\\n",
       "0  2011  Darlington 001      E02002559   \n",
       "1  2011  Darlington 002      E02002560   \n",
       "2  2011  Darlington 003      E02002561   \n",
       "3  2011  Darlington 004      E02002562   \n",
       "4  2011  Darlington 005      E02002563   \n",
       "\n",
       "   Economic Activity: All usual residents aged 16 to 74; measures: Value  \\\n",
       "0                                               6521                       \n",
       "1                                               4462                       \n",
       "2                                               4342                       \n",
       "3                                               4473                       \n",
       "4                                               3912                       \n",
       "\n",
       "   Economic Activity: Economically active; measures: Value  \\\n",
       "0                                               4928         \n",
       "1                                               3323         \n",
       "2                                               3093         \n",
       "3                                               3139         \n",
       "4                                               2620         \n",
       "\n",
       "   Economic Activity: Economically active: In employment; measures: Value  \\\n",
       "0                                               4609                        \n",
       "1                                               3006                        \n",
       "2                                               2816                        \n",
       "3                                               2672                        \n",
       "4                                               2366                        \n",
       "\n",
       "   Economic Activity: Economically active: Employee: Part-time; measures: Value  \\\n",
       "0                                                927                              \n",
       "1                                                731                              \n",
       "2                                                706                              \n",
       "3                                                726                              \n",
       "4                                                640                              \n",
       "\n",
       "   Economic Activity: Economically active: Employee: Full-time; measures: Value  \\\n",
       "0                                               2888                              \n",
       "1                                               1957                              \n",
       "2                                               1856                              \n",
       "3                                               1722                              \n",
       "4                                               1507                              \n",
       "\n",
       "   Economic Activity: Economically active: Self-employed; measures: Value  \\\n",
       "0                                                794                        \n",
       "1                                                318                        \n",
       "2                                                254                        \n",
       "3                                                224                        \n",
       "4                                                219                        \n",
       "\n",
       "   Economic Activity: Economically active: Unemployed; measures: Value  ...  \\\n",
       "0                                                165                    ...   \n",
       "1                                                181                    ...   \n",
       "2                                                171                    ...   \n",
       "3                                                331                    ...   \n",
       "4                                                168                    ...   \n",
       "\n",
       "   Economic Activity: Economically Inactive; measures: Value  \\\n",
       "0                                               1593           \n",
       "1                                               1139           \n",
       "2                                               1249           \n",
       "3                                               1334           \n",
       "4                                               1292           \n",
       "\n",
       "   Economic Activity: Economically inactive: Retired; measures: Value  \\\n",
       "0                                                967                    \n",
       "1                                                701                    \n",
       "2                                                796                    \n",
       "3                                                623                    \n",
       "4                                                711                    \n",
       "\n",
       "   Economic Activity: Economically inactive: Student (including full-time students); measures: Value  \\\n",
       "0                                                211                                                   \n",
       "1                                                141                                                   \n",
       "2                                                143                                                   \n",
       "3                                                138                                                   \n",
       "4                                                130                                                   \n",
       "\n",
       "   Economic Activity: Economically inactive: Looking after home or family; measures: Value  \\\n",
       "0                                                209                                         \n",
       "1                                                137                                         \n",
       "2                                                120                                         \n",
       "3                                                188                                         \n",
       "4                                                152                                         \n",
       "\n",
       "   Economic Activity: Economically inactive: Long-term sick or disabled; measures: Value  \\\n",
       "0                                                133                                       \n",
       "1                                                119                                       \n",
       "2                                                151                                       \n",
       "3                                                275                                       \n",
       "4                                                230                                       \n",
       "\n",
       "   Economic Activity: Economically inactive: Other; measures: Value  \\\n",
       "0                                                 73                  \n",
       "1                                                 41                  \n",
       "2                                                 39                  \n",
       "3                                                110                  \n",
       "4                                                 69                  \n",
       "\n",
       "   Economic Activity: Unemployed: Age 16 to 24; measures: Value  \\\n",
       "0                                                 40              \n",
       "1                                                 44              \n",
       "2                                                 32              \n",
       "3                                                 91              \n",
       "4                                                 56              \n",
       "\n",
       "   Economic Activity: Unemployed: Age 50 to 74; measures: Value  \\\n",
       "0                                                 43              \n",
       "1                                                 33              \n",
       "2                                                 47              \n",
       "3                                                 62              \n",
       "4                                                 36              \n",
       "\n",
       "   Economic Activity: Unemployed: Never worked; measures: Value  \\\n",
       "0                                                 16              \n",
       "1                                                 21              \n",
       "2                                                 14              \n",
       "3                                                 44              \n",
       "4                                                 26              \n",
       "\n",
       "   Economic Activity: Long-term unemployed; measures: Value  \n",
       "0                                                 66         \n",
       "1                                                 68         \n",
       "2                                                 61         \n",
       "3                                                168         \n",
       "4                                                 64         \n",
       "\n",
       "[5 rows x 21 columns]"
      ]
     },
     "execution_count": 17,
     "metadata": {},
     "output_type": "execute_result"
    }
   ],
   "source": [
    "df_nomis.head()"
   ]
  },
  {
   "cell_type": "markdown",
   "id": "36ec705a-96b0-413e-b4a7-ec609e49795b",
   "metadata": {},
   "source": [
    "**a) Rename df_nomis column names to match df3, shorten df_nomis**"
   ]
  },
  {
   "cell_type": "code",
   "execution_count": 18,
   "id": "afab30e8-c8d1-4cd2-ae9c-e168516fe4e0",
   "metadata": {},
   "outputs": [],
   "source": [
    "df_nomis_changed = df_nomis.rename(columns={\n",
    "    'geography': 'MSOA name',\n",
    "    'geography code': 'MSOA code',\n",
    "    'Economic Activity: Economically inactive: Long-term sick or disabled; measures: Value':\n",
    "    'Economically inactive: Long-term sick or disabled'\n",
    "})"
   ]
  },
  {
   "cell_type": "code",
   "execution_count": 19,
   "id": "c864197d-47f5-42f1-82a5-a08bd7ad24bc",
   "metadata": {},
   "outputs": [],
   "source": [
    "df_nomis_shortened = df_nomis_changed[['MSOA name', 'MSOA code','Economically inactive: Long-term sick or disabled']]"
   ]
  },
  {
   "cell_type": "code",
   "execution_count": 20,
   "id": "d860f3ed-2c0b-4b5e-b117-2e436a423098",
   "metadata": {},
   "outputs": [
    {
     "data": {
      "text/html": [
       "<div>\n",
       "<style scoped>\n",
       "    .dataframe tbody tr th:only-of-type {\n",
       "        vertical-align: middle;\n",
       "    }\n",
       "\n",
       "    .dataframe tbody tr th {\n",
       "        vertical-align: top;\n",
       "    }\n",
       "\n",
       "    .dataframe thead th {\n",
       "        text-align: right;\n",
       "    }\n",
       "</style>\n",
       "<table border=\"1\" class=\"dataframe\">\n",
       "  <thead>\n",
       "    <tr style=\"text-align: right;\">\n",
       "      <th></th>\n",
       "      <th>MSOA name</th>\n",
       "      <th>MSOA code</th>\n",
       "      <th>Economically inactive: Long-term sick or disabled</th>\n",
       "    </tr>\n",
       "  </thead>\n",
       "  <tbody>\n",
       "    <tr>\n",
       "      <th>0</th>\n",
       "      <td>Darlington 001</td>\n",
       "      <td>E02002559</td>\n",
       "      <td>133</td>\n",
       "    </tr>\n",
       "    <tr>\n",
       "      <th>1</th>\n",
       "      <td>Darlington 002</td>\n",
       "      <td>E02002560</td>\n",
       "      <td>119</td>\n",
       "    </tr>\n",
       "    <tr>\n",
       "      <th>2</th>\n",
       "      <td>Darlington 003</td>\n",
       "      <td>E02002561</td>\n",
       "      <td>151</td>\n",
       "    </tr>\n",
       "    <tr>\n",
       "      <th>3</th>\n",
       "      <td>Darlington 004</td>\n",
       "      <td>E02002562</td>\n",
       "      <td>275</td>\n",
       "    </tr>\n",
       "    <tr>\n",
       "      <th>4</th>\n",
       "      <td>Darlington 005</td>\n",
       "      <td>E02002563</td>\n",
       "      <td>230</td>\n",
       "    </tr>\n",
       "    <tr>\n",
       "      <th>...</th>\n",
       "      <td>...</td>\n",
       "      <td>...</td>\n",
       "      <td>...</td>\n",
       "    </tr>\n",
       "    <tr>\n",
       "      <th>7196</th>\n",
       "      <td>Newport 016</td>\n",
       "      <td>W02000362</td>\n",
       "      <td>173</td>\n",
       "    </tr>\n",
       "    <tr>\n",
       "      <th>7197</th>\n",
       "      <td>Newport 017</td>\n",
       "      <td>W02000363</td>\n",
       "      <td>244</td>\n",
       "    </tr>\n",
       "    <tr>\n",
       "      <th>7198</th>\n",
       "      <td>Newport 018</td>\n",
       "      <td>W02000364</td>\n",
       "      <td>476</td>\n",
       "    </tr>\n",
       "    <tr>\n",
       "      <th>7199</th>\n",
       "      <td>Newport 019</td>\n",
       "      <td>W02000365</td>\n",
       "      <td>418</td>\n",
       "    </tr>\n",
       "    <tr>\n",
       "      <th>7200</th>\n",
       "      <td>Newport 020</td>\n",
       "      <td>W02000366</td>\n",
       "      <td>119</td>\n",
       "    </tr>\n",
       "  </tbody>\n",
       "</table>\n",
       "<p>7201 rows × 3 columns</p>\n",
       "</div>"
      ],
      "text/plain": [
       "           MSOA name  MSOA code  \\\n",
       "0     Darlington 001  E02002559   \n",
       "1     Darlington 002  E02002560   \n",
       "2     Darlington 003  E02002561   \n",
       "3     Darlington 004  E02002562   \n",
       "4     Darlington 005  E02002563   \n",
       "...              ...        ...   \n",
       "7196     Newport 016  W02000362   \n",
       "7197     Newport 017  W02000363   \n",
       "7198     Newport 018  W02000364   \n",
       "7199     Newport 019  W02000365   \n",
       "7200     Newport 020  W02000366   \n",
       "\n",
       "      Economically inactive: Long-term sick or disabled  \n",
       "0                                                   133  \n",
       "1                                                   119  \n",
       "2                                                   151  \n",
       "3                                                   275  \n",
       "4                                                   230  \n",
       "...                                                 ...  \n",
       "7196                                                173  \n",
       "7197                                                244  \n",
       "7198                                                476  \n",
       "7199                                                418  \n",
       "7200                                                119  \n",
       "\n",
       "[7201 rows x 3 columns]"
      ]
     },
     "execution_count": 20,
     "metadata": {},
     "output_type": "execute_result"
    }
   ],
   "source": [
    "df_nomis_shortened"
   ]
  },
  {
   "cell_type": "markdown",
   "id": "7b31b3c8-7069-4ff1-b0fc-f3629439ad43",
   "metadata": {},
   "source": [
    "#### 8. Merge df_nomis_shortened with df3"
   ]
  },
  {
   "cell_type": "code",
   "execution_count": 21,
   "id": "fe8f26cc-edb8-401f-ae26-9e7044e82124",
   "metadata": {},
   "outputs": [],
   "source": [
    "df4 = pd.merge(df3, df_nomis_shortened, on=['MSOA code', 'MSOA name'])"
   ]
  },
  {
   "cell_type": "code",
   "execution_count": 22,
   "id": "83626f9d-8a31-4b31-941c-e763b57ee769",
   "metadata": {},
   "outputs": [
    {
     "data": {
      "text/html": [
       "<div>\n",
       "<style scoped>\n",
       "    .dataframe tbody tr th:only-of-type {\n",
       "        vertical-align: middle;\n",
       "    }\n",
       "\n",
       "    .dataframe tbody tr th {\n",
       "        vertical-align: top;\n",
       "    }\n",
       "\n",
       "    .dataframe thead th {\n",
       "        text-align: right;\n",
       "    }\n",
       "</style>\n",
       "<table border=\"1\" class=\"dataframe\">\n",
       "  <thead>\n",
       "    <tr style=\"text-align: right;\">\n",
       "      <th></th>\n",
       "      <th>MSOA code</th>\n",
       "      <th>MSOA name</th>\n",
       "      <th>Male Life Expectancy</th>\n",
       "      <th>Female Life Expectancy</th>\n",
       "      <th>Local authority code</th>\n",
       "      <th>Local authority name</th>\n",
       "      <th>Region code</th>\n",
       "      <th>Region name</th>\n",
       "      <th>Net annual income before housing costs (£)</th>\n",
       "      <th>Upper confidence limit (£)</th>\n",
       "      <th>Lower confidence limit (£)</th>\n",
       "      <th>Confidence interval (£)</th>\n",
       "      <th>IMD SCORE</th>\n",
       "      <th>POPMID15</th>\n",
       "      <th>MSOARANK</th>\n",
       "      <th>MSOADECILE</th>\n",
       "      <th>MSOAQUINTILE</th>\n",
       "      <th>Economically inactive: Long-term sick or disabled</th>\n",
       "    </tr>\n",
       "  </thead>\n",
       "  <tbody>\n",
       "    <tr>\n",
       "      <th>0</th>\n",
       "      <td>E02000001</td>\n",
       "      <td>City of London 001</td>\n",
       "      <td>91.1</td>\n",
       "      <td>90.2</td>\n",
       "      <td>E09000001</td>\n",
       "      <td>City of London</td>\n",
       "      <td>E12000007</td>\n",
       "      <td>London</td>\n",
       "      <td>65000</td>\n",
       "      <td>75100</td>\n",
       "      <td>56300</td>\n",
       "      <td>18800</td>\n",
       "      <td>14.720484</td>\n",
       "      <td>6687</td>\n",
       "      <td>4198</td>\n",
       "      <td>7</td>\n",
       "      <td>4</td>\n",
       "      <td>116</td>\n",
       "    </tr>\n",
       "    <tr>\n",
       "      <th>1</th>\n",
       "      <td>E02000002</td>\n",
       "      <td>Barking and Dagenham 001</td>\n",
       "      <td>79.5</td>\n",
       "      <td>82.5</td>\n",
       "      <td>E09000002</td>\n",
       "      <td>Barking and Dagenham</td>\n",
       "      <td>E12000007</td>\n",
       "      <td>London</td>\n",
       "      <td>28600</td>\n",
       "      <td>32100</td>\n",
       "      <td>25500</td>\n",
       "      <td>6600</td>\n",
       "      <td>34.767560</td>\n",
       "      <td>7379</td>\n",
       "      <td>1060</td>\n",
       "      <td>2</td>\n",
       "      <td>1</td>\n",
       "      <td>235</td>\n",
       "    </tr>\n",
       "    <tr>\n",
       "      <th>2</th>\n",
       "      <td>E02000003</td>\n",
       "      <td>Barking and Dagenham 002</td>\n",
       "      <td>78.1</td>\n",
       "      <td>84.2</td>\n",
       "      <td>E09000002</td>\n",
       "      <td>Barking and Dagenham</td>\n",
       "      <td>E12000007</td>\n",
       "      <td>London</td>\n",
       "      <td>33000</td>\n",
       "      <td>36900</td>\n",
       "      <td>29600</td>\n",
       "      <td>7300</td>\n",
       "      <td>25.149726</td>\n",
       "      <td>10720</td>\n",
       "      <td>2200</td>\n",
       "      <td>4</td>\n",
       "      <td>2</td>\n",
       "      <td>251</td>\n",
       "    </tr>\n",
       "    <tr>\n",
       "      <th>3</th>\n",
       "      <td>E02000004</td>\n",
       "      <td>Barking and Dagenham 003</td>\n",
       "      <td>77.6</td>\n",
       "      <td>81.8</td>\n",
       "      <td>E09000002</td>\n",
       "      <td>Barking and Dagenham</td>\n",
       "      <td>E12000007</td>\n",
       "      <td>London</td>\n",
       "      <td>34300</td>\n",
       "      <td>38300</td>\n",
       "      <td>30600</td>\n",
       "      <td>7700</td>\n",
       "      <td>23.560044</td>\n",
       "      <td>6536</td>\n",
       "      <td>2429</td>\n",
       "      <td>4</td>\n",
       "      <td>2</td>\n",
       "      <td>164</td>\n",
       "    </tr>\n",
       "    <tr>\n",
       "      <th>4</th>\n",
       "      <td>E02000005</td>\n",
       "      <td>Barking and Dagenham 004</td>\n",
       "      <td>79.2</td>\n",
       "      <td>84.6</td>\n",
       "      <td>E09000002</td>\n",
       "      <td>Barking and Dagenham</td>\n",
       "      <td>E12000007</td>\n",
       "      <td>London</td>\n",
       "      <td>30000</td>\n",
       "      <td>33600</td>\n",
       "      <td>26700</td>\n",
       "      <td>6900</td>\n",
       "      <td>30.212965</td>\n",
       "      <td>9243</td>\n",
       "      <td>1519</td>\n",
       "      <td>3</td>\n",
       "      <td>2</td>\n",
       "      <td>293</td>\n",
       "    </tr>\n",
       "  </tbody>\n",
       "</table>\n",
       "</div>"
      ],
      "text/plain": [
       "   MSOA code                 MSOA name Male Life Expectancy  \\\n",
       "0  E02000001        City of London 001                 91.1   \n",
       "1  E02000002  Barking and Dagenham 001                 79.5   \n",
       "2  E02000003  Barking and Dagenham 002                 78.1   \n",
       "3  E02000004  Barking and Dagenham 003                 77.6   \n",
       "4  E02000005  Barking and Dagenham 004                 79.2   \n",
       "\n",
       "  Female Life Expectancy Local authority code  Local authority name  \\\n",
       "0                   90.2            E09000001        City of London   \n",
       "1                   82.5            E09000002  Barking and Dagenham   \n",
       "2                   84.2            E09000002  Barking and Dagenham   \n",
       "3                   81.8            E09000002  Barking and Dagenham   \n",
       "4                   84.6            E09000002  Barking and Dagenham   \n",
       "\n",
       "  Region code Region name  Net annual income before housing costs (£)  \\\n",
       "0   E12000007      London                                       65000   \n",
       "1   E12000007      London                                       28600   \n",
       "2   E12000007      London                                       33000   \n",
       "3   E12000007      London                                       34300   \n",
       "4   E12000007      London                                       30000   \n",
       "\n",
       "   Upper confidence limit (£)  Lower confidence limit (£)  \\\n",
       "0                       75100                       56300   \n",
       "1                       32100                       25500   \n",
       "2                       36900                       29600   \n",
       "3                       38300                       30600   \n",
       "4                       33600                       26700   \n",
       "\n",
       "   Confidence interval (£)  IMD SCORE  POPMID15  MSOARANK  MSOADECILE  \\\n",
       "0                    18800  14.720484      6687      4198           7   \n",
       "1                     6600  34.767560      7379      1060           2   \n",
       "2                     7300  25.149726     10720      2200           4   \n",
       "3                     7700  23.560044      6536      2429           4   \n",
       "4                     6900  30.212965      9243      1519           3   \n",
       "\n",
       "   MSOAQUINTILE  Economically inactive: Long-term sick or disabled  \n",
       "0             4                                                116  \n",
       "1             1                                                235  \n",
       "2             2                                                251  \n",
       "3             2                                                164  \n",
       "4             2                                                293  "
      ]
     },
     "execution_count": 22,
     "metadata": {},
     "output_type": "execute_result"
    }
   ],
   "source": [
    "df4.head()"
   ]
  },
  {
   "cell_type": "markdown",
   "id": "2355d2e2-48be-4759-8f7a-b63cf4a2aab4",
   "metadata": {},
   "source": [
    "#### 9. Add a Column for Average Life Expectancy"
   ]
  },
  {
   "cell_type": "markdown",
   "id": "e9deca4b-4b4d-40d5-be5f-39410ce79c21",
   "metadata": {},
   "source": [
    "As the 'Male Life Expectancy' and 'Female Life Expectancy' columns are objects, I must convert them into floats before I can calculate the average life expectancy."
   ]
  },
  {
   "cell_type": "code",
   "execution_count": 23,
   "id": "ff0b5d44-6be2-465e-9819-61a3489b7628",
   "metadata": {},
   "outputs": [],
   "source": [
    "df4['Average Life Expectancy'] = (df4['Male Life Expectancy'].astype(float) + \n",
    "                                     df4['Female Life Expectancy'].astype(float)) / 2"
   ]
  },
  {
   "cell_type": "markdown",
   "id": "19919d13-89b7-4ff0-a2ac-8de433624e5f",
   "metadata": {},
   "source": [
    "#### 10. Drop Null Values & Filter for Selected Columns"
   ]
  },
  {
   "cell_type": "code",
   "execution_count": 24,
   "id": "c60be338-b669-46e0-ab2f-7c54c25f62fe",
   "metadata": {},
   "outputs": [],
   "source": [
    "df5 = df4.dropna()"
   ]
  },
  {
   "cell_type": "code",
   "execution_count": 25,
   "id": "d909bb65-7235-4b2c-b152-85815a57ced9",
   "metadata": {},
   "outputs": [],
   "source": [
    "df6 = df5[['MSOA code', 'MSOA name', 'Region name',\n",
    "       'Net annual income before housing costs (£)',\n",
    "       'IMD SCORE','Economically inactive: Long-term sick or disabled',\n",
    "       'Average Life Expectancy']]"
   ]
  },
  {
   "cell_type": "markdown",
   "id": "ef13b0fa-631d-4966-8185-db7c9e359f6a",
   "metadata": {},
   "source": [
    "#### 11. Drop Duplicates"
   ]
  },
  {
   "cell_type": "code",
   "execution_count": 26,
   "id": "4e214eb9-4064-49c4-90cc-f06c24de1dd5",
   "metadata": {},
   "outputs": [],
   "source": [
    "final_df = df6.drop_duplicates()"
   ]
  },
  {
   "cell_type": "code",
   "execution_count": 27,
   "id": "3016a547-b9cc-4a0e-8a0c-9400384ad6c4",
   "metadata": {},
   "outputs": [
    {
     "data": {
      "text/html": [
       "<div>\n",
       "<style scoped>\n",
       "    .dataframe tbody tr th:only-of-type {\n",
       "        vertical-align: middle;\n",
       "    }\n",
       "\n",
       "    .dataframe tbody tr th {\n",
       "        vertical-align: top;\n",
       "    }\n",
       "\n",
       "    .dataframe thead th {\n",
       "        text-align: right;\n",
       "    }\n",
       "</style>\n",
       "<table border=\"1\" class=\"dataframe\">\n",
       "  <thead>\n",
       "    <tr style=\"text-align: right;\">\n",
       "      <th></th>\n",
       "      <th>MSOA code</th>\n",
       "      <th>MSOA name</th>\n",
       "      <th>Region name</th>\n",
       "      <th>Net annual income before housing costs (£)</th>\n",
       "      <th>IMD SCORE</th>\n",
       "      <th>Economically inactive: Long-term sick or disabled</th>\n",
       "      <th>Average Life Expectancy</th>\n",
       "    </tr>\n",
       "  </thead>\n",
       "  <tbody>\n",
       "    <tr>\n",
       "      <th>0</th>\n",
       "      <td>E02000001</td>\n",
       "      <td>City of London 001</td>\n",
       "      <td>London</td>\n",
       "      <td>65000</td>\n",
       "      <td>14.720484</td>\n",
       "      <td>116</td>\n",
       "      <td>90.65</td>\n",
       "    </tr>\n",
       "    <tr>\n",
       "      <th>1</th>\n",
       "      <td>E02000002</td>\n",
       "      <td>Barking and Dagenham 001</td>\n",
       "      <td>London</td>\n",
       "      <td>28600</td>\n",
       "      <td>34.767560</td>\n",
       "      <td>235</td>\n",
       "      <td>81.00</td>\n",
       "    </tr>\n",
       "    <tr>\n",
       "      <th>2</th>\n",
       "      <td>E02000003</td>\n",
       "      <td>Barking and Dagenham 002</td>\n",
       "      <td>London</td>\n",
       "      <td>33000</td>\n",
       "      <td>25.149726</td>\n",
       "      <td>251</td>\n",
       "      <td>81.15</td>\n",
       "    </tr>\n",
       "    <tr>\n",
       "      <th>3</th>\n",
       "      <td>E02000004</td>\n",
       "      <td>Barking and Dagenham 003</td>\n",
       "      <td>London</td>\n",
       "      <td>34300</td>\n",
       "      <td>23.560044</td>\n",
       "      <td>164</td>\n",
       "      <td>79.70</td>\n",
       "    </tr>\n",
       "    <tr>\n",
       "      <th>4</th>\n",
       "      <td>E02000005</td>\n",
       "      <td>Barking and Dagenham 004</td>\n",
       "      <td>London</td>\n",
       "      <td>30000</td>\n",
       "      <td>30.212965</td>\n",
       "      <td>293</td>\n",
       "      <td>81.90</td>\n",
       "    </tr>\n",
       "  </tbody>\n",
       "</table>\n",
       "</div>"
      ],
      "text/plain": [
       "   MSOA code                 MSOA name Region name  \\\n",
       "0  E02000001        City of London 001      London   \n",
       "1  E02000002  Barking and Dagenham 001      London   \n",
       "2  E02000003  Barking and Dagenham 002      London   \n",
       "3  E02000004  Barking and Dagenham 003      London   \n",
       "4  E02000005  Barking and Dagenham 004      London   \n",
       "\n",
       "   Net annual income before housing costs (£)  IMD SCORE  \\\n",
       "0                                       65000  14.720484   \n",
       "1                                       28600  34.767560   \n",
       "2                                       33000  25.149726   \n",
       "3                                       34300  23.560044   \n",
       "4                                       30000  30.212965   \n",
       "\n",
       "   Economically inactive: Long-term sick or disabled  Average Life Expectancy  \n",
       "0                                                116                    90.65  \n",
       "1                                                235                    81.00  \n",
       "2                                                251                    81.15  \n",
       "3                                                164                    79.70  \n",
       "4                                                293                    81.90  "
      ]
     },
     "execution_count": 27,
     "metadata": {},
     "output_type": "execute_result"
    }
   ],
   "source": [
    "final_df.head()"
   ]
  },
  {
   "cell_type": "markdown",
   "id": "3324b4d7-9959-4141-a9c2-e5ca8cdda09c",
   "metadata": {},
   "source": [
    "## EXPLORATORY DATA ANALYSIS"
   ]
  },
  {
   "cell_type": "markdown",
   "id": "d2a46062-0ae8-4ba6-8c00-252b81e241d9",
   "metadata": {},
   "source": [
    "#### 1. Summary Statistics"
   ]
  },
  {
   "cell_type": "code",
   "execution_count": 28,
   "id": "dd42b74b-8ef8-41af-9369-d7d965bc4a8a",
   "metadata": {},
   "outputs": [
    {
     "data": {
      "text/html": [
       "<div>\n",
       "<style scoped>\n",
       "    .dataframe tbody tr th:only-of-type {\n",
       "        vertical-align: middle;\n",
       "    }\n",
       "\n",
       "    .dataframe tbody tr th {\n",
       "        vertical-align: top;\n",
       "    }\n",
       "\n",
       "    .dataframe thead th {\n",
       "        text-align: right;\n",
       "    }\n",
       "</style>\n",
       "<table border=\"1\" class=\"dataframe\">\n",
       "  <thead>\n",
       "    <tr style=\"text-align: right;\">\n",
       "      <th></th>\n",
       "      <th>Net annual income before housing costs (£)</th>\n",
       "      <th>IMD SCORE</th>\n",
       "      <th>Economically inactive: Long-term sick or disabled</th>\n",
       "      <th>Average Life Expectancy</th>\n",
       "    </tr>\n",
       "  </thead>\n",
       "  <tbody>\n",
       "    <tr>\n",
       "      <th>count</th>\n",
       "      <td>6725.0</td>\n",
       "      <td>6725.0</td>\n",
       "      <td>6725.0</td>\n",
       "      <td>6725.0</td>\n",
       "    </tr>\n",
       "    <tr>\n",
       "      <th>mean</th>\n",
       "      <td>32794.1</td>\n",
       "      <td>21.5</td>\n",
       "      <td>231.6</td>\n",
       "      <td>81.6</td>\n",
       "    </tr>\n",
       "    <tr>\n",
       "      <th>std</th>\n",
       "      <td>5822.8</td>\n",
       "      <td>13.2</td>\n",
       "      <td>137.6</td>\n",
       "      <td>2.7</td>\n",
       "    </tr>\n",
       "    <tr>\n",
       "      <th>min</th>\n",
       "      <td>16700.0</td>\n",
       "      <td>2.2</td>\n",
       "      <td>14.0</td>\n",
       "      <td>69.4</td>\n",
       "    </tr>\n",
       "    <tr>\n",
       "      <th>25%</th>\n",
       "      <td>28900.0</td>\n",
       "      <td>11.4</td>\n",
       "      <td>128.0</td>\n",
       "      <td>79.8</td>\n",
       "    </tr>\n",
       "    <tr>\n",
       "      <th>50%</th>\n",
       "      <td>32200.0</td>\n",
       "      <td>18.1</td>\n",
       "      <td>199.0</td>\n",
       "      <td>81.8</td>\n",
       "    </tr>\n",
       "    <tr>\n",
       "      <th>75%</th>\n",
       "      <td>36000.0</td>\n",
       "      <td>28.6</td>\n",
       "      <td>302.0</td>\n",
       "      <td>83.5</td>\n",
       "    </tr>\n",
       "    <tr>\n",
       "      <th>max</th>\n",
       "      <td>67000.0</td>\n",
       "      <td>86.9</td>\n",
       "      <td>1080.0</td>\n",
       "      <td>93.0</td>\n",
       "    </tr>\n",
       "  </tbody>\n",
       "</table>\n",
       "</div>"
      ],
      "text/plain": [
       "       Net annual income before housing costs (£)  IMD SCORE  \\\n",
       "count                                      6725.0     6725.0   \n",
       "mean                                      32794.1       21.5   \n",
       "std                                        5822.8       13.2   \n",
       "min                                       16700.0        2.2   \n",
       "25%                                       28900.0       11.4   \n",
       "50%                                       32200.0       18.1   \n",
       "75%                                       36000.0       28.6   \n",
       "max                                       67000.0       86.9   \n",
       "\n",
       "       Economically inactive: Long-term sick or disabled  \\\n",
       "count                                             6725.0   \n",
       "mean                                               231.6   \n",
       "std                                                137.6   \n",
       "min                                                 14.0   \n",
       "25%                                                128.0   \n",
       "50%                                                199.0   \n",
       "75%                                                302.0   \n",
       "max                                               1080.0   \n",
       "\n",
       "       Average Life Expectancy  \n",
       "count                   6725.0  \n",
       "mean                      81.6  \n",
       "std                        2.7  \n",
       "min                       69.4  \n",
       "25%                       79.8  \n",
       "50%                       81.8  \n",
       "75%                       83.5  \n",
       "max                       93.0  "
      ]
     },
     "execution_count": 28,
     "metadata": {},
     "output_type": "execute_result"
    }
   ],
   "source": [
    "final_df.describe().round(1)"
   ]
  },
  {
   "cell_type": "markdown",
   "id": "15b8540b-45a8-4d09-beef-df28fb714309",
   "metadata": {},
   "source": [
    "#### 2. Distribution of Average Life Expectancy"
   ]
  },
  {
   "cell_type": "code",
   "execution_count": 29,
   "id": "1d8b414c-4f8d-45c0-b699-8dca50ddefa2",
   "metadata": {},
   "outputs": [
    {
     "name": "stderr",
     "output_type": "stream",
     "text": [
      "/var/folders/0g/9c2sx5tj5nzfjm5nd2m6t3_m0000gn/T/ipykernel_58755/2088677457.py:1: UserWarning: \n",
      "\n",
      "`distplot` is a deprecated function and will be removed in seaborn v0.14.0.\n",
      "\n",
      "Please adapt your code to use either `displot` (a figure-level function with\n",
      "similar flexibility) or `histplot` (an axes-level function for histograms).\n",
      "\n",
      "For a guide to updating your code to use the new functions, please see\n",
      "https://gist.github.com/mwaskom/de44147ed2974457ad6372750bbe5751\n",
      "\n",
      "  sns.distplot(final_df['Average Life Expectancy'])\n",
      "/opt/anaconda3/lib/python3.11/site-packages/seaborn/_oldcore.py:1119: FutureWarning: use_inf_as_na option is deprecated and will be removed in a future version. Convert inf values to NaN before operating instead.\n",
      "  with pd.option_context('mode.use_inf_as_na', True):\n"
     ]
    },
    {
     "data": {
      "text/plain": [
       "Text(0.5, 1.0, 'Distribution of Life Expectancy')"
      ]
     },
     "execution_count": 29,
     "metadata": {},
     "output_type": "execute_result"
    },
    {
     "data": {
      "image/png": "[encoded data removed]",
      "text/plain": [
       "<Figure size 640x480 with 1 Axes>"
      ]
     },
     "metadata": {},
     "output_type": "display_data"
    }
   ],
   "source": [
    "sns.distplot(final_df['Average Life Expectancy'])   \n",
    "plt.title('Distribution of Life Expectancy')"
   ]
  },
  {
   "cell_type": "markdown",
   "id": "061b9852-a9f8-46b0-8ea6-a6bf2eade928",
   "metadata": {},
   "source": [
    "#### 3. Distribution of IMD scores per Region"
   ]
  },
  {
   "cell_type": "code",
   "execution_count": 30,
   "id": "aacc1015-508b-460a-8833-f3e8a5b996e8",
   "metadata": {},
   "outputs": [
    {
     "data": {
      "image/png": "[encoded data removed]",
      "text/plain": [
       "<Figure size 1200x1200 with 9 Axes>"
      ]
     },
     "metadata": {},
     "output_type": "display_data"
    },
    {
     "data": {
      "text/plain": [
       "<Figure size 640x480 with 0 Axes>"
      ]
     },
     "metadata": {},
     "output_type": "display_data"
    }
   ],
   "source": [
    "z = sns.FacetGrid(final_df, col='Region name', col_wrap=3, height=4)\n",
    "z.map(plt.hist, 'IMD SCORE', bins=20, edgecolor='black', color='skyblue')\n",
    "z.set_titles('{col_name}')\n",
    "z.set_axis_labels('IMD SCORE', 'Frequency')\n",
    "plt.show()\n",
    "\n",
    "plt.subplots_adjust(hspace=0.5)  # Increase vertical space between plots????"
   ]
  },
  {
   "cell_type": "markdown",
   "id": "5a5dd865-1d7c-4810-897a-3b6c3e1166a0",
   "metadata": {},
   "source": [
    "#### 4. Scatter Plots Showing The Relationship Between The Predictor Variables and Life Expectancy"
   ]
  },
  {
   "cell_type": "code",
   "execution_count": 57,
   "id": "fa94685c-7d7c-446d-822f-b5232108e7fc",
   "metadata": {},
   "outputs": [
    {
     "data": {
      "image/png": "[encoded data removed]",
      "text/plain": [
       "<Figure size 800x800 with 3 Axes>"
      ]
     },
     "metadata": {},
     "output_type": "display_data"
    }
   ],
   "source": [
    "fig,axes = plt.subplots(nrows=3,figsize=(8,8))\n",
    "\n",
    "# Net annual income before housing costs\n",
    "sns.regplot(x='Net annual income before housing costs (£)', y='Average Life Expectancy',\n",
    "            data=final_df, ax=axes[0], scatter_kws={'color': '#98FF98', 's': 6}, line_kws={'color': 'black'})\n",
    "axes[0].set_xlabel('Net Annual Income Before Housing Costs (£)')\n",
    "axes[0].set_ylabel('Male Life Expectancy')\n",
    "axes[0].set_title('Net Income Before Housing Costs vs Life Expectancy',fontsize=12)\n",
    "\n",
    "#IMD score\n",
    "sns.regplot(x='IMD SCORE', y='Average Life Expectancy',\n",
    "            data=final_df, ax=axes[1], scatter_kws={'color': '#FF7F50','s': 6}, line_kws={'color': 'black'})\n",
    "axes[1].set_xlabel('IMD Score')\n",
    "axes[1].set_ylabel('Average Life Expectancy')\n",
    "axes[1].set_title('IMD Score vs Life Expectancy',fontsize=12)\n",
    "\n",
    "#'Economically inactive: Long-term sick or disabled'\n",
    "sns.regplot(x='Economically inactive: Long-term sick or disabled', y='Average Life Expectancy',\n",
    "            data=final_df, ax=axes[2], scatter_kws={'color': 'magenta','s': 6}, line_kws={'color': 'black'})\n",
    "axes[2].set_xlabel('Economically Inactive Population Due To Long-term Sickness or Disability (Value)')\n",
    "axes[2].set_ylabel('Average Life Expectancy')\n",
    "axes[2].set_title('Economic Inactivity due to Long-term Sickness or Disability vs Life Expectancy',fontsize=12)\n",
    "\n",
    "plt.tight_layout()"
   ]
  },
  {
   "cell_type": "markdown",
   "id": "7324d6e7-8bc4-4575-b895-45750a4068a8",
   "metadata": {},
   "source": [
    "#### 5. Box Plots to Show Net Annual Income Before Housing Costs Per Region"
   ]
  },
  {
   "cell_type": "code",
   "execution_count": 32,
   "id": "7e44bd05-d142-4fe0-9f44-52389e332eb8",
   "metadata": {},
   "outputs": [
    {
     "data": {
      "image/png": "[encoded data removed]",
      "text/plain": [
       "<Figure size 800x600 with 1 Axes>"
      ]
     },
     "metadata": {},
     "output_type": "display_data"
    }
   ],
   "source": [
    "plt.figure(figsize=(8, 6))\n",
    "sns.boxplot(x='Region name', y='Net annual income before housing costs (£)', data=final_df, palette='Set3')\n",
    "\n",
    "plt.title('Net Annual Income Before Housing Costs Per Region')\n",
    "plt.xlabel('Region')\n",
    "plt.ylabel('Income Before Housing Costs (£)')\n",
    "plt.xticks(rotation=90)  \n",
    "\n",
    "plt.tight_layout()"
   ]
  },
  {
   "cell_type": "markdown",
   "id": "3bea0799-c726-403e-9732-aba7a3fe6746",
   "metadata": {},
   "source": [
    "### PHASE 1 - Building a Linear Regression Model"
   ]
  },
  {
   "cell_type": "markdown",
   "id": "074cb824-afaf-44ad-810e-df353167d87b",
   "metadata": {},
   "source": [
    "#### 1. Split the Data"
   ]
  },
  {
   "cell_type": "markdown",
   "id": "8a2aabeb-fb29-4570-aa46-8b15ad36868d",
   "metadata": {},
   "source": [
    " We need to split the data into an:\n",
    "   - X array (which contains the features to train on, the predictor variables) &\n",
    "   - y-array (which contains the target variable, in this case the life expectancy which we are trying to predict). "
   ]
  },
  {
   "cell_type": "code",
   "execution_count": 33,
   "id": "3c0e2071-74fe-4f71-9003-90b383c7b6fb",
   "metadata": {},
   "outputs": [],
   "source": [
    "X = final_df[['Net annual income before housing costs (£)', 'IMD SCORE',\n",
    "              'Economically inactive: Long-term sick or disabled']]\n",
    "y = final_df['Average Life Expectancy']"
   ]
  },
  {
   "cell_type": "markdown",
   "id": "7cd032d9-d24e-44c7-bc16-c6accb5bac08",
   "metadata": {},
   "source": [
    "#### 2. Do a Train, Test Split\n",
    "   - We want to split the data into a training set for the model and a testing set in order to test the model once it has been trained.\n",
    "   - To do this, we need skicit learn (specifically the train_test_split function)"
   ]
  },
  {
   "cell_type": "markdown",
   "id": "e212cdc4-90f2-4317-a1bb-cc574feb6cf4",
   "metadata": {},
   "source": [
    "**a) Import train_test_split**"
   ]
  },
  {
   "cell_type": "code",
   "execution_count": 34,
   "id": "2f8544dd-4be9-4bf5-98a2-07294f729980",
   "metadata": {},
   "outputs": [],
   "source": [
    "from sklearn.model_selection import train_test_split"
   ]
  },
  {
   "cell_type": "markdown",
   "id": "eac2171a-ad20-4607-9143-e64fb600df2e",
   "metadata": {},
   "source": [
    "**b) Set test_size to 0.4**"
   ]
  },
  {
   "cell_type": "code",
   "execution_count": 35,
   "id": "de3f3ec1-9751-4740-935e-db719f5a47d6",
   "metadata": {},
   "outputs": [],
   "source": [
    "X_train, X_test, y_train, y_test = train_test_split(X, y, test_size=0.4, random_state=42)"
   ]
  },
  {
   "cell_type": "markdown",
   "id": "0a35e4a8-7141-446a-86f3-3b0999c6055b",
   "metadata": {},
   "source": [
    "#### 3. Create and Train the Model"
   ]
  },
  {
   "cell_type": "markdown",
   "id": "ac69aade-c2e5-4646-903c-15e1893842e3",
   "metadata": {},
   "source": [
    "**a) Import the linear regression module** "
   ]
  },
  {
   "cell_type": "code",
   "execution_count": 36,
   "id": "ebd905d6-e19d-47e5-a711-5a2d347476b2",
   "metadata": {},
   "outputs": [],
   "source": [
    "from sklearn.linear_model import LinearRegression"
   ]
  },
  {
   "cell_type": "markdown",
   "id": "3884151b-0ec1-4ebd-82fa-0ae264cb81f2",
   "metadata": {},
   "source": [
    "**b) Make an instance of the linear regression model**"
   ]
  },
  {
   "cell_type": "code",
   "execution_count": 37,
   "id": "93f79788-383d-4b95-a24b-6fa1510186c3",
   "metadata": {},
   "outputs": [],
   "source": [
    "model = LinearRegression()"
   ]
  },
  {
   "cell_type": "code",
   "execution_count": 38,
   "id": "910ce4bf-c716-4907-9b59-1a3dc1acac6f",
   "metadata": {},
   "outputs": [
    {
     "data": {
      "text/html": [
       "<style>#sk-container-id-1 {color: black;background-color: white;}#sk-container-id-1 pre{padding: 0;}#sk-container-id-1 div.sk-toggleable {background-color: white;}#sk-container-id-1 label.sk-toggleable__label {cursor: pointer;display: block;width: 100%;margin-bottom: 0;padding: 0.3em;box-sizing: border-box;text-align: center;}#sk-container-id-1 label.sk-toggleable__label-arrow:before {content: \"▸\";float: left;margin-right: 0.25em;color: #696969;}#sk-container-id-1 label.sk-toggleable__label-arrow:hover:before {color: black;}#sk-container-id-1 div.sk-estimator:hover label.sk-toggleable__label-arrow:before {color: black;}#sk-container-id-1 div.sk-toggleable__content {max-height: 0;max-width: 0;overflow: hidden;text-align: left;background-color: #f0f8ff;}#sk-container-id-1 div.sk-toggleable__content pre {margin: 0.2em;color: black;border-radius: 0.25em;background-color: #f0f8ff;}#sk-container-id-1 input.sk-toggleable__control:checked~div.sk-toggleable__content {max-height: 200px;max-width: 100%;overflow: auto;}#sk-container-id-1 input.sk-toggleable__control:checked~label.sk-toggleable__label-arrow:before {content: \"▾\";}#sk-container-id-1 div.sk-estimator input.sk-toggleable__control:checked~label.sk-toggleable__label {background-color: #d4ebff;}#sk-container-id-1 div.sk-label input.sk-toggleable__control:checked~label.sk-toggleable__label {background-color: #d4ebff;}#sk-container-id-1 input.sk-hidden--visually {border: 0;clip: rect(1px 1px 1px 1px);clip: rect(1px, 1px, 1px, 1px);height: 1px;margin: -1px;overflow: hidden;padding: 0;position: absolute;width: 1px;}#sk-container-id-1 div.sk-estimator {font-family: monospace;background-color: #f0f8ff;border: 1px dotted black;border-radius: 0.25em;box-sizing: border-box;margin-bottom: 0.5em;}#sk-container-id-1 div.sk-estimator:hover {background-color: #d4ebff;}#sk-container-id-1 div.sk-parallel-item::after {content: \"\";width: 100%;border-bottom: 1px solid gray;flex-grow: 1;}#sk-container-id-1 div.sk-label:hover label.sk-toggleable__label {background-color: #d4ebff;}#sk-container-id-1 div.sk-serial::before {content: \"\";position: absolute;border-left: 1px solid gray;box-sizing: border-box;top: 0;bottom: 0;left: 50%;z-index: 0;}#sk-container-id-1 div.sk-serial {display: flex;flex-direction: column;align-items: center;background-color: white;padding-right: 0.2em;padding-left: 0.2em;position: relative;}#sk-container-id-1 div.sk-item {position: relative;z-index: 1;}#sk-container-id-1 div.sk-parallel {display: flex;align-items: stretch;justify-content: center;background-color: white;position: relative;}#sk-container-id-1 div.sk-item::before, #sk-container-id-1 div.sk-parallel-item::before {content: \"\";position: absolute;border-left: 1px solid gray;box-sizing: border-box;top: 0;bottom: 0;left: 50%;z-index: -1;}#sk-container-id-1 div.sk-parallel-item {display: flex;flex-direction: column;z-index: 1;position: relative;background-color: white;}#sk-container-id-1 div.sk-parallel-item:first-child::after {align-self: flex-end;width: 50%;}#sk-container-id-1 div.sk-parallel-item:last-child::after {align-self: flex-start;width: 50%;}#sk-container-id-1 div.sk-parallel-item:only-child::after {width: 0;}#sk-container-id-1 div.sk-dashed-wrapped {border: 1px dashed gray;margin: 0 0.4em 0.5em 0.4em;box-sizing: border-box;padding-bottom: 0.4em;background-color: white;}#sk-container-id-1 div.sk-label label {font-family: monospace;font-weight: bold;display: inline-block;line-height: 1.2em;}#sk-container-id-1 div.sk-label-container {text-align: center;}#sk-container-id-1 div.sk-container {/* jupyter's `normalize.less` sets `[hidden] { display: none; }` but bootstrap.min.css set `[hidden] { display: none !important; }` so we also need the `!important` here to be able to override the default hidden behavior on the sphinx rendered scikit-learn.org. See: https://github.com/scikit-learn/scikit-learn/issues/21755 */display: inline-block !important;position: relative;}#sk-container-id-1 div.sk-text-repr-fallback {display: none;}</style><div id=\"sk-container-id-1\" class=\"sk-top-container\"><div class=\"sk-text-repr-fallback\"><pre>LinearRegression()</pre><b>In a Jupyter environment, please rerun this cell to show the HTML representation or trust the notebook. <br />On GitHub, the HTML representation is unable to render, please try loading this page with nbviewer.org.</b></div><div class=\"sk-container\" hidden><div class=\"sk-item\"><div class=\"sk-estimator sk-toggleable\"><input class=\"sk-toggleable__control sk-hidden--visually\" id=\"sk-estimator-id-1\" type=\"checkbox\" checked><label for=\"sk-estimator-id-1\" class=\"sk-toggleable__label sk-toggleable__label-arrow\">LinearRegression</label><div class=\"sk-toggleable__content\"><pre>LinearRegression()</pre></div></div></div></div></div>"
      ],
      "text/plain": [
       "LinearRegression()"
      ]
     },
     "execution_count": 38,
     "metadata": {},
     "output_type": "execute_result"
    }
   ],
   "source": [
    "model.fit(X_train, y_train)"
   ]
  },
  {
   "cell_type": "markdown",
   "id": "aa4d7af1-2390-4b97-8d1a-b44cbfe7d3e1",
   "metadata": {},
   "source": [
    "#### 4. Evaluate Model Using Regression Coefficients"
   ]
  },
  {
   "cell_type": "code",
   "execution_count": 39,
   "id": "b43a1f81-c9b2-47fa-8315-4fb6b8f3535f",
   "metadata": {},
   "outputs": [
    {
     "name": "stdout",
     "output_type": "stream",
     "text": [
      "80.15868731741597\n"
     ]
    }
   ],
   "source": [
    "print(model.intercept_)"
   ]
  },
  {
   "cell_type": "code",
   "execution_count": 40,
   "id": "30d0eb7a-c449-4b03-8e7e-61d933844abf",
   "metadata": {},
   "outputs": [
    {
     "data": {
      "text/plain": [
       "array([ 0.00012859, -0.08745336, -0.00397686])"
      ]
     },
     "execution_count": 40,
     "metadata": {},
     "output_type": "execute_result"
    }
   ],
   "source": [
    "coefficients = model.coef_    \n",
    "coefficients"
   ]
  },
  {
   "cell_type": "code",
   "execution_count": 41,
   "id": "5d19a7e4-04ab-4553-930d-448f83f158e2",
   "metadata": {},
   "outputs": [
    {
     "data": {
      "text/html": [
       "<div>\n",
       "<style scoped>\n",
       "    .dataframe tbody tr th:only-of-type {\n",
       "        vertical-align: middle;\n",
       "    }\n",
       "\n",
       "    .dataframe tbody tr th {\n",
       "        vertical-align: top;\n",
       "    }\n",
       "\n",
       "    .dataframe thead th {\n",
       "        text-align: right;\n",
       "    }\n",
       "</style>\n",
       "<table border=\"1\" class=\"dataframe\">\n",
       "  <thead>\n",
       "    <tr style=\"text-align: right;\">\n",
       "      <th></th>\n",
       "      <th>Coefficients</th>\n",
       "    </tr>\n",
       "  </thead>\n",
       "  <tbody>\n",
       "    <tr>\n",
       "      <th>Net annual income before housing costs (£)</th>\n",
       "      <td>0.000129</td>\n",
       "    </tr>\n",
       "    <tr>\n",
       "      <th>IMD SCORE</th>\n",
       "      <td>-0.087453</td>\n",
       "    </tr>\n",
       "    <tr>\n",
       "      <th>Economically inactive: Long-term sick or disabled</th>\n",
       "      <td>-0.003977</td>\n",
       "    </tr>\n",
       "  </tbody>\n",
       "</table>\n",
       "</div>"
      ],
      "text/plain": [
       "                                                   Coefficients\n",
       "Net annual income before housing costs (£)             0.000129\n",
       "IMD SCORE                                             -0.087453\n",
       "Economically inactive: Long-term sick or disabled     -0.003977"
      ]
     },
     "execution_count": 41,
     "metadata": {},
     "output_type": "execute_result"
    }
   ],
   "source": [
    "coeff_df = pd.DataFrame(coefficients, X.columns, columns=['Coefficients'])\n",
    "coeff_df"
   ]
  },
  {
   "cell_type": "markdown",
   "id": "b14b7844-7c6a-4b8d-8e12-8a2e5b3065c6",
   "metadata": {},
   "source": [
    "#### 4. Predictions"
   ]
  },
  {
   "cell_type": "markdown",
   "id": "c933ce36-476f-4382-9a18-30bfa5e49b12",
   "metadata": {},
   "source": [
    "**a) Make the Predictions**"
   ]
  },
  {
   "cell_type": "code",
   "execution_count": 42,
   "id": "0732215d-9edd-415c-8de6-ccdb9a917d18",
   "metadata": {},
   "outputs": [
    {
     "data": {
      "text/plain": [
       "array([84.04824217, 83.11822608, 84.03945734, ..., 78.62052733,\n",
       "       85.19268571, 83.57297581])"
      ]
     },
     "execution_count": 42,
     "metadata": {},
     "output_type": "execute_result"
    }
   ],
   "source": [
    "predictions = model.predict(X_test)\n",
    "predictions  "
   ]
  },
  {
   "cell_type": "markdown",
   "id": "85aabfcf-1539-4fe0-a748-3d1523ffd238",
   "metadata": {},
   "source": [
    "**b) Scatter Plot to show Predictions vs Actual Values**"
   ]
  },
  {
   "cell_type": "code",
   "execution_count": 43,
   "id": "c39e1339-d9fc-4a89-a0be-47a08dbe7dae",
   "metadata": {},
   "outputs": [
    {
     "data": {
      "image/png": "[encoded data removed]",
      "text/plain": [
       "<Figure size 640x480 with 1 Axes>"
      ]
     },
     "metadata": {},
     "output_type": "display_data"
    }
   ],
   "source": [
    "sns.regplot(x=y_test, y=predictions, scatter_kws={'s':10}, line_kws={'color':'red'})\n",
    "plt.xlabel('Actual Life Expectancy')\n",
    "plt.ylabel('Predicted Life Expectancy')\n",
    "plt.title('Predictions vs Actual Values (Life Expectancy)')\n",
    "plt.show()"
   ]
  },
  {
   "cell_type": "markdown",
   "id": "5008e4f6-a781-4459-b76d-a23ffdfc22b7",
   "metadata": {},
   "source": [
    "**c) Histogram of Residuals**"
   ]
  },
  {
   "cell_type": "code",
   "execution_count": 44,
   "id": "dc1b1ab9-47fa-4674-8480-48d1f37f38ec",
   "metadata": {},
   "outputs": [
    {
     "name": "stderr",
     "output_type": "stream",
     "text": [
      "/var/folders/0g/9c2sx5tj5nzfjm5nd2m6t3_m0000gn/T/ipykernel_58755/4009002029.py:1: UserWarning: \n",
      "\n",
      "`distplot` is a deprecated function and will be removed in seaborn v0.14.0.\n",
      "\n",
      "Please adapt your code to use either `displot` (a figure-level function with\n",
      "similar flexibility) or `histplot` (an axes-level function for histograms).\n",
      "\n",
      "For a guide to updating your code to use the new functions, please see\n",
      "https://gist.github.com/mwaskom/de44147ed2974457ad6372750bbe5751\n",
      "\n",
      "  sns.distplot((y_test-predictions))\n",
      "/opt/anaconda3/lib/python3.11/site-packages/seaborn/_oldcore.py:1119: FutureWarning: use_inf_as_na option is deprecated and will be removed in a future version. Convert inf values to NaN before operating instead.\n",
      "  with pd.option_context('mode.use_inf_as_na', True):\n"
     ]
    },
    {
     "data": {
      "text/plain": [
       "Text(0.5, 1.0, 'Distribution of Residuals')"
      ]
     },
     "execution_count": 44,
     "metadata": {},
     "output_type": "execute_result"
    },
    {
     "data": {
      "image/png": "[encoded data removed]",
      "text/plain": [
       "<Figure size 640x480 with 1 Axes>"
      ]
     },
     "metadata": {},
     "output_type": "display_data"
    }
   ],
   "source": [
    "sns.distplot((y_test-predictions))\n",
    "plt.title('Distribution of Residuals')"
   ]
  },
  {
   "cell_type": "markdown",
   "id": "13a557ee-11ff-4b1b-930c-c1e7b0eeb476",
   "metadata": {},
   "source": [
    "**Insights:** The residuals are normally distributed which shows the model is suitable for this data."
   ]
  },
  {
   "cell_type": "markdown",
   "id": "9c3885a5-47d5-40fe-8ca2-915bb5d3aee7",
   "metadata": {},
   "source": [
    "#### 4. Evaluate the Model using R-Squared"
   ]
  },
  {
   "cell_type": "code",
   "execution_count": 45,
   "id": "6bbe52ba-e645-420f-8f2e-ce085887c061",
   "metadata": {},
   "outputs": [
    {
     "name": "stdout",
     "output_type": "stream",
     "text": [
      "R-squared: 0.6581019799364336\n"
     ]
    }
   ],
   "source": [
    "from sklearn.metrics import r2_score\n",
    "r_squared = r2_score(y_test, predictions)\n",
    "print(f'R-squared: {r_squared}')"
   ]
  },
  {
   "cell_type": "markdown",
   "id": "b736fe36-4e7d-4b6a-ad82-802b773a8283",
   "metadata": {},
   "source": [
    "#### 5. Find The Most Significant Variable"
   ]
  },
  {
   "cell_type": "markdown",
   "id": "5b73a127-c8a5-4208-bd32-f6a6ee606947",
   "metadata": {},
   "source": [
    "To identify the most significant variable, we will refit the linear regression model multiple times, each time excluding one of the three variables. For each model, we will calculate the R-squared value."
   ]
  },
  {
   "cell_type": "code",
   "execution_count": 46,
   "id": "e40b42b2-fc4f-4241-828e-da1c97a2e3f3",
   "metadata": {},
   "outputs": [],
   "source": [
    "X1 = final_df[['IMD SCORE','Economically inactive: Long-term sick or disabled']]\n",
    "X2 = final_df[['Net annual income before housing costs (£)','Economically inactive: Long-term sick or disabled']]\n",
    "X3 = final_df[['Net annual income before housing costs (£)', 'IMD SCORE']]\n",
    "y1 = final_df['Average Life Expectancy']"
   ]
  },
  {
   "cell_type": "code",
   "execution_count": 47,
   "id": "54b88327-88ae-497c-accf-7ce279bb7bec",
   "metadata": {},
   "outputs": [],
   "source": [
    "def find_r_squared(X_data,y_data):\n",
    "    X_train, X_test, y_train, y_test = train_test_split(X_data, y_data, test_size=0.4, random_state=42)\n",
    "    model = LinearRegression()\n",
    "    model.fit(X_train, y_train)\n",
    "    predictions = model.predict(X_test)\n",
    "    r_squared = r2_score(y_test, predictions)\n",
    "    return r_squared"
   ]
  },
  {
   "cell_type": "code",
   "execution_count": 48,
   "id": "7f66c9c0-2824-4386-ae13-86556ebf044c",
   "metadata": {},
   "outputs": [
    {
     "data": {
      "text/plain": [
       "[0.6204122072618886, 0.618073976004546, 0.6481756284508083]"
      ]
     },
     "execution_count": 48,
     "metadata": {},
     "output_type": "execute_result"
    }
   ],
   "source": [
    "r_squared_values = [find_r_squared(X1, y1), find_r_squared(X2, y1), find_r_squared(X3, y1)]\n",
    "r_squared_values"
   ]
  },
  {
   "cell_type": "code",
   "execution_count": 49,
   "id": "026306f7-bab1-4f9e-bdff-79fdd7d4df18",
   "metadata": {},
   "outputs": [
    {
     "data": {
      "text/html": [
       "<div>\n",
       "<style scoped>\n",
       "    .dataframe tbody tr th:only-of-type {\n",
       "        vertical-align: middle;\n",
       "    }\n",
       "\n",
       "    .dataframe tbody tr th {\n",
       "        vertical-align: top;\n",
       "    }\n",
       "\n",
       "    .dataframe thead th {\n",
       "        text-align: right;\n",
       "    }\n",
       "</style>\n",
       "<table border=\"1\" class=\"dataframe\">\n",
       "  <thead>\n",
       "    <tr style=\"text-align: right;\">\n",
       "      <th></th>\n",
       "      <th>Variable Removed From Model</th>\n",
       "      <th>R-Squared Values</th>\n",
       "    </tr>\n",
       "  </thead>\n",
       "  <tbody>\n",
       "    <tr>\n",
       "      <th>0</th>\n",
       "      <td>Net annual income before housing costs (£)</td>\n",
       "      <td>0.620412</td>\n",
       "    </tr>\n",
       "    <tr>\n",
       "      <th>1</th>\n",
       "      <td>IMD SCORE</td>\n",
       "      <td>0.618074</td>\n",
       "    </tr>\n",
       "    <tr>\n",
       "      <th>2</th>\n",
       "      <td>Economically inactive: Long-term sick or disabled</td>\n",
       "      <td>0.648176</td>\n",
       "    </tr>\n",
       "  </tbody>\n",
       "</table>\n",
       "</div>"
      ],
      "text/plain": [
       "                         Variable Removed From Model  R-Squared Values\n",
       "0         Net annual income before housing costs (£)          0.620412\n",
       "1                                          IMD SCORE          0.618074\n",
       "2  Economically inactive: Long-term sick or disabled          0.648176"
      ]
     },
     "execution_count": 49,
     "metadata": {},
     "output_type": "execute_result"
    }
   ],
   "source": [
    "r_squared_df = pd.DataFrame({'Variable Removed From Model': X.columns,'R-Squared Values': r_squared_values})\n",
    "r_squared_df"
   ]
  },
  {
   "cell_type": "markdown",
   "id": "3175dad6-b6ad-46bf-882e-ee125ab852b7",
   "metadata": {},
   "source": [
    "**Analysis:** The model with 'IMD score' removed has the lowest r-squared value. "
   ]
  },
  {
   "cell_type": "markdown",
   "id": "d1ecc304-ad39-4846-97de-42f7666fe60c",
   "metadata": {},
   "source": [
    "### PHASE 2 - Dudley"
   ]
  },
  {
   "cell_type": "markdown",
   "id": "5a9199fa-798a-46d1-b917-6be2944592ca",
   "metadata": {},
   "source": [
    "#### 1. Filter final_df for MSOAs in Dudley"
   ]
  },
  {
   "cell_type": "code",
   "execution_count": 50,
   "id": "0a521c42-aee1-4409-abde-66924d73ff07",
   "metadata": {},
   "outputs": [],
   "source": [
    "def get_dudley_places(df):\n",
    "    dudley_places = df[df['MSOA name'].str.startswith('Dudley')]\n",
    "    return dudley_places"
   ]
  },
  {
   "cell_type": "code",
   "execution_count": 51,
   "id": "a0a3e974-4c42-4b10-84ca-a2b3256fa6cd",
   "metadata": {},
   "outputs": [
    {
     "data": {
      "text/html": [
       "<div>\n",
       "<style scoped>\n",
       "    .dataframe tbody tr th:only-of-type {\n",
       "        vertical-align: middle;\n",
       "    }\n",
       "\n",
       "    .dataframe tbody tr th {\n",
       "        vertical-align: top;\n",
       "    }\n",
       "\n",
       "    .dataframe thead th {\n",
       "        text-align: right;\n",
       "    }\n",
       "</style>\n",
       "<table border=\"1\" class=\"dataframe\">\n",
       "  <thead>\n",
       "    <tr style=\"text-align: right;\">\n",
       "      <th></th>\n",
       "      <th>MSOA code</th>\n",
       "      <th>MSOA name</th>\n",
       "      <th>Region name</th>\n",
       "      <th>Net annual income before housing costs (£)</th>\n",
       "      <th>IMD SCORE</th>\n",
       "      <th>Economically inactive: Long-term sick or disabled</th>\n",
       "      <th>Average Life Expectancy</th>\n",
       "    </tr>\n",
       "  </thead>\n",
       "  <tbody>\n",
       "    <tr>\n",
       "      <th>1943</th>\n",
       "      <td>E02002000</td>\n",
       "      <td>Dudley 001</td>\n",
       "      <td>West Midla</td>\n",
       "      <td>27000</td>\n",
       "      <td>31.799350</td>\n",
       "      <td>292</td>\n",
       "      <td>79.95</td>\n",
       "    </tr>\n",
       "    <tr>\n",
       "      <th>1944</th>\n",
       "      <td>E02002001</td>\n",
       "      <td>Dudley 002</td>\n",
       "      <td>West Midla</td>\n",
       "      <td>28200</td>\n",
       "      <td>25.197642</td>\n",
       "      <td>200</td>\n",
       "      <td>81.50</td>\n",
       "    </tr>\n",
       "    <tr>\n",
       "      <th>1945</th>\n",
       "      <td>E02002002</td>\n",
       "      <td>Dudley 003</td>\n",
       "      <td>West Midla</td>\n",
       "      <td>32600</td>\n",
       "      <td>8.157939</td>\n",
       "      <td>127</td>\n",
       "      <td>83.65</td>\n",
       "    </tr>\n",
       "    <tr>\n",
       "      <th>1946</th>\n",
       "      <td>E02002003</td>\n",
       "      <td>Dudley 004</td>\n",
       "      <td>West Midla</td>\n",
       "      <td>28400</td>\n",
       "      <td>22.168486</td>\n",
       "      <td>271</td>\n",
       "      <td>80.60</td>\n",
       "    </tr>\n",
       "    <tr>\n",
       "      <th>1947</th>\n",
       "      <td>E02002004</td>\n",
       "      <td>Dudley 005</td>\n",
       "      <td>West Midla</td>\n",
       "      <td>27000</td>\n",
       "      <td>33.848990</td>\n",
       "      <td>330</td>\n",
       "      <td>79.70</td>\n",
       "    </tr>\n",
       "  </tbody>\n",
       "</table>\n",
       "</div>"
      ],
      "text/plain": [
       "      MSOA code   MSOA name Region name  \\\n",
       "1943  E02002000  Dudley 001  West Midla   \n",
       "1944  E02002001  Dudley 002  West Midla   \n",
       "1945  E02002002  Dudley 003  West Midla   \n",
       "1946  E02002003  Dudley 004  West Midla   \n",
       "1947  E02002004  Dudley 005  West Midla   \n",
       "\n",
       "      Net annual income before housing costs (£)  IMD SCORE  \\\n",
       "1943                                       27000  31.799350   \n",
       "1944                                       28200  25.197642   \n",
       "1945                                       32600   8.157939   \n",
       "1946                                       28400  22.168486   \n",
       "1947                                       27000  33.848990   \n",
       "\n",
       "      Economically inactive: Long-term sick or disabled  \\\n",
       "1943                                                292   \n",
       "1944                                                200   \n",
       "1945                                                127   \n",
       "1946                                                271   \n",
       "1947                                                330   \n",
       "\n",
       "      Average Life Expectancy  \n",
       "1943                    79.95  \n",
       "1944                    81.50  \n",
       "1945                    83.65  \n",
       "1946                    80.60  \n",
       "1947                    79.70  "
      ]
     },
     "execution_count": 51,
     "metadata": {},
     "output_type": "execute_result"
    }
   ],
   "source": [
    "dudley_df = get_dudley_places(final_df)\n",
    "dudley_df.head()"
   ]
  },
  {
   "cell_type": "markdown",
   "id": "4b1801c2-6009-41e7-b204-2b0c82895a41",
   "metadata": {},
   "source": [
    "#### 2. Filter dudley_df For Desired Columns"
   ]
  },
  {
   "cell_type": "code",
   "execution_count": 52,
   "id": "1f47bc53-e1c3-4d68-bdbc-f492f085e8a1",
   "metadata": {},
   "outputs": [
    {
     "data": {
      "text/html": [
       "<div>\n",
       "<style scoped>\n",
       "    .dataframe tbody tr th:only-of-type {\n",
       "        vertical-align: middle;\n",
       "    }\n",
       "\n",
       "    .dataframe tbody tr th {\n",
       "        vertical-align: top;\n",
       "    }\n",
       "\n",
       "    .dataframe thead th {\n",
       "        text-align: right;\n",
       "    }\n",
       "</style>\n",
       "<table border=\"1\" class=\"dataframe\">\n",
       "  <thead>\n",
       "    <tr style=\"text-align: right;\">\n",
       "      <th></th>\n",
       "      <th>Net annual income before housing costs (£)</th>\n",
       "      <th>IMD SCORE</th>\n",
       "      <th>Economically inactive: Long-term sick or disabled</th>\n",
       "    </tr>\n",
       "  </thead>\n",
       "  <tbody>\n",
       "    <tr>\n",
       "      <th>1943</th>\n",
       "      <td>27000</td>\n",
       "      <td>31.799350</td>\n",
       "      <td>292</td>\n",
       "    </tr>\n",
       "    <tr>\n",
       "      <th>1944</th>\n",
       "      <td>28200</td>\n",
       "      <td>25.197642</td>\n",
       "      <td>200</td>\n",
       "    </tr>\n",
       "    <tr>\n",
       "      <th>1945</th>\n",
       "      <td>32600</td>\n",
       "      <td>8.157939</td>\n",
       "      <td>127</td>\n",
       "    </tr>\n",
       "    <tr>\n",
       "      <th>1946</th>\n",
       "      <td>28400</td>\n",
       "      <td>22.168486</td>\n",
       "      <td>271</td>\n",
       "    </tr>\n",
       "    <tr>\n",
       "      <th>1947</th>\n",
       "      <td>27000</td>\n",
       "      <td>33.848990</td>\n",
       "      <td>330</td>\n",
       "    </tr>\n",
       "  </tbody>\n",
       "</table>\n",
       "</div>"
      ],
      "text/plain": [
       "      Net annual income before housing costs (£)  IMD SCORE  \\\n",
       "1943                                       27000  31.799350   \n",
       "1944                                       28200  25.197642   \n",
       "1945                                       32600   8.157939   \n",
       "1946                                       28400  22.168486   \n",
       "1947                                       27000  33.848990   \n",
       "\n",
       "      Economically inactive: Long-term sick or disabled  \n",
       "1943                                                292  \n",
       "1944                                                200  \n",
       "1945                                                127  \n",
       "1946                                                271  \n",
       "1947                                                330  "
      ]
     },
     "execution_count": 52,
     "metadata": {},
     "output_type": "execute_result"
    }
   ],
   "source": [
    "mini_dudley_df = dudley_df[['Net annual income before housing costs (£)', 'IMD SCORE', \n",
    "                            'Economically inactive: Long-term sick or disabled']]\n",
    "mini_dudley_df.head()"
   ]
  },
  {
   "cell_type": "markdown",
   "id": "74f9eee1-142e-4329-8ef7-d0e4cd0df1e1",
   "metadata": {},
   "source": [
    "#### 3. Multiply 'Net annual income before housing costs (£)' Column By 1.1 (to show the 10% increase in income)"
   ]
  },
  {
   "cell_type": "code",
   "execution_count": 53,
   "id": "f8f9bc63-a3f7-46bd-9274-44e21348296f",
   "metadata": {},
   "outputs": [
    {
     "name": "stderr",
     "output_type": "stream",
     "text": [
      "/var/folders/0g/9c2sx5tj5nzfjm5nd2m6t3_m0000gn/T/ipykernel_58755/2756336375.py:1: SettingWithCopyWarning: \n",
      "A value is trying to be set on a copy of a slice from a DataFrame.\n",
      "Try using .loc[row_indexer,col_indexer] = value instead\n",
      "\n",
      "See the caveats in the documentation: https://pandas.pydata.org/pandas-docs/stable/user_guide/indexing.html#returning-a-view-versus-a-copy\n",
      "  mini_dudley_df['Net annual income before housing costs (£)'] = mini_dudley_df['Net annual income before housing costs (£)']*1.1\n"
     ]
    }
   ],
   "source": [
    "mini_dudley_df['Net annual income before housing costs (£)'] = mini_dudley_df['Net annual income before housing costs (£)']*1.1"
   ]
  },
  {
   "cell_type": "code",
   "execution_count": 54,
   "id": "986b27b5-7c4e-4c33-a5eb-bc5fcb9121f2",
   "metadata": {},
   "outputs": [
    {
     "data": {
      "text/html": [
       "<div>\n",
       "<style scoped>\n",
       "    .dataframe tbody tr th:only-of-type {\n",
       "        vertical-align: middle;\n",
       "    }\n",
       "\n",
       "    .dataframe tbody tr th {\n",
       "        vertical-align: top;\n",
       "    }\n",
       "\n",
       "    .dataframe thead th {\n",
       "        text-align: right;\n",
       "    }\n",
       "</style>\n",
       "<table border=\"1\" class=\"dataframe\">\n",
       "  <thead>\n",
       "    <tr style=\"text-align: right;\">\n",
       "      <th></th>\n",
       "      <th>Net annual income before housing costs (£)</th>\n",
       "      <th>IMD SCORE</th>\n",
       "      <th>Economically inactive: Long-term sick or disabled</th>\n",
       "    </tr>\n",
       "  </thead>\n",
       "  <tbody>\n",
       "    <tr>\n",
       "      <th>1943</th>\n",
       "      <td>29700.0</td>\n",
       "      <td>31.799350</td>\n",
       "      <td>292</td>\n",
       "    </tr>\n",
       "    <tr>\n",
       "      <th>1944</th>\n",
       "      <td>31020.0</td>\n",
       "      <td>25.197642</td>\n",
       "      <td>200</td>\n",
       "    </tr>\n",
       "    <tr>\n",
       "      <th>1945</th>\n",
       "      <td>35860.0</td>\n",
       "      <td>8.157939</td>\n",
       "      <td>127</td>\n",
       "    </tr>\n",
       "    <tr>\n",
       "      <th>1946</th>\n",
       "      <td>31240.0</td>\n",
       "      <td>22.168486</td>\n",
       "      <td>271</td>\n",
       "    </tr>\n",
       "    <tr>\n",
       "      <th>1947</th>\n",
       "      <td>29700.0</td>\n",
       "      <td>33.848990</td>\n",
       "      <td>330</td>\n",
       "    </tr>\n",
       "  </tbody>\n",
       "</table>\n",
       "</div>"
      ],
      "text/plain": [
       "      Net annual income before housing costs (£)  IMD SCORE  \\\n",
       "1943                                     29700.0  31.799350   \n",
       "1944                                     31020.0  25.197642   \n",
       "1945                                     35860.0   8.157939   \n",
       "1946                                     31240.0  22.168486   \n",
       "1947                                     29700.0  33.848990   \n",
       "\n",
       "      Economically inactive: Long-term sick or disabled  \n",
       "1943                                                292  \n",
       "1944                                                200  \n",
       "1945                                                127  \n",
       "1946                                                271  \n",
       "1947                                                330  "
      ]
     },
     "execution_count": 54,
     "metadata": {},
     "output_type": "execute_result"
    }
   ],
   "source": [
    "mini_dudley_df.head()"
   ]
  },
  {
   "cell_type": "markdown",
   "id": "a551d6d2-c67c-4c6e-9e86-9af7e2338566",
   "metadata": {},
   "source": [
    "#### 4. Pass mini_dudley_df Into Model"
   ]
  },
  {
   "cell_type": "code",
   "execution_count": 55,
   "id": "e25d464c-b3aa-43a3-9fba-48c1a3bef512",
   "metadata": {},
   "outputs": [
    {
     "data": {
      "text/plain": [
       "array([80.03566569, 81.14861953, 83.55149452, 81.15946275, 79.70529713,\n",
       "       77.91577121, 80.58970559, 81.58194223, 83.32313635, 78.45376876,\n",
       "       78.75666951, 83.29867738, 78.5679134 , 83.40789558, 79.44081277,\n",
       "       81.91580597, 78.34911612, 79.71684644, 83.11108192, 79.25358095,\n",
       "       82.50298393, 78.54948378, 80.25975338, 82.47590124, 80.90159537,\n",
       "       81.05918405, 82.51803975, 84.20844422, 82.64520322, 83.3743942 ,\n",
       "       80.85941857, 81.12695078, 80.2117368 , 82.4824403 , 81.42550208,\n",
       "       83.83951853, 79.29168428, 82.28248154, 80.85300674, 83.14611956,\n",
       "       84.32223637, 82.80338617, 83.70857634])"
      ]
     },
     "execution_count": 55,
     "metadata": {},
     "output_type": "execute_result"
    }
   ],
   "source": [
    "model.predict(mini_dudley_df)"
   ]
  }
 ],
 "metadata": {
  "kernelspec": {
   "display_name": "Python 3 (ipykernel)",
   "language": "python",
   "name": "python3"
  },
  "language_info": {
   "codemirror_mode": {
    "name": "ipython",
    "version": 3
   },
   "file_extension": ".py",
   "mimetype": "text/x-python",
   "name": "python",
   "nbconvert_exporter": "python",
   "pygments_lexer": "ipython3",
   "version": "3.11.7"
  }
 },
 "nbformat": 4,
 "nbformat_minor": 5
}
